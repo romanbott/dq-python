{
 "cells": [
  {
   "cell_type": "code",
   "execution_count": null,
   "metadata": {
    "collapsed": true
   },
   "outputs": [],
   "source": [
    "from dqnotebook import QuadraticDrawer"
   ]
  },
  {
   "cell_type": "code",
   "execution_count": null,
   "metadata": {
    "collapsed": true
   },
   "outputs": [],
   "source": [
    "%matplotlib notebook"
   ]
  },
  {
   "cell_type": "code",
   "execution_count": null,
   "metadata": {
    "collapsed": true
   },
   "outputs": [],
   "source": [
    "from cmath import rect, pi, sqrt"
   ]
  },
  {
   "cell_type": "code",
   "execution_count": null,
   "metadata": {
    "collapsed": true
   },
   "outputs": [],
   "source": [
    "from obj import QuadraticDifferential\n",
    "import matplotlib as mpl\n",
    "#mpl.use(\"pgf\")\n",
    "%matplotlib notebook\n",
    "import matplotlib.pyplot as plt\n",
    "from matplotlib.collections import LineCollection\n"
   ]
  },
  {
   "cell_type": "code",
   "execution_count": null,
   "metadata": {
    "collapsed": true
   },
   "outputs": [],
   "source": [
    "def hacer_reticula(quad, punto, paso, longitud):\n",
    "    t1 = quad.compute_trajectory(punto)\n",
    "    quad.phase = quad.phase*complex(-1,0)\n",
    "    t2 = quad.compute_trajectory(punto)\n",
    "    coord1=t1.coordinates.tolist()\n",
    "    coord2=t2.coordinates.tolist()\n",
    "    plots = []\n",
    "    plots_ort = []\n",
    "    recorrido = 0\n",
    "    num_paso = 1\n",
    "    start1 = coord1.index([t1.plotpoint.real, t1.plotpoint.imag])\n",
    "    start2 = coord2.index([t2.plotpoint.real, t2.plotpoint.imag])\n",
    "    while recorrido < longitud:\n",
    "        paso_inicio = complex(coord1[start1][0],coord1[start1][1])\n",
    "        paso_fin = complex(coord1[start1+1][0],coord1[start1+1][1])\n",
    "        recorrido += abs(paso_fin-paso_inicio)*abs(sqrt(quad.QD((paso_inicio+paso_fin)/2)))\n",
    "        start1 += 1\n",
    "        if recorrido >= num_paso*paso:\n",
    "            plots_ort.append(paso_fin)\n",
    "            num_paso += 1\n",
    "    recorrido = 0\n",
    "    num_paso = 1\n",
    "    while recorrido < longitud:\n",
    "        paso_inicio = complex(coord2[start2][0],coord2[start2][1])\n",
    "        paso_fin = complex(coord2[start2+1][0],coord2[start2+1][1])\n",
    "        recorrido += abs(paso_fin-paso_inicio)*abs(sqrt(quad.QD((paso_inicio+paso_fin)/2)))\n",
    "        start2 += 1\n",
    "        if recorrido >= num_paso*paso:\n",
    "            plots.append(paso_fin)\n",
    "            num_paso += 1\n",
    "    start1 = coord1.index([t1.plotpoint.real, t1.plotpoint.imag])\n",
    "    start2 = coord2.index([t2.plotpoint.real, t2.plotpoint.imag])\n",
    "    recorrido = 0\n",
    "    num_paso = 1\n",
    "    while recorrido < longitud:\n",
    "        paso_inicio = complex(coord1[start1][0],coord1[start1][1])\n",
    "        paso_fin = complex(coord1[start1-1][0],coord1[start1-1][1])\n",
    "        recorrido += abs(paso_fin-paso_inicio)*abs(sqrt(quad.QD((paso_inicio+paso_fin)/2)))\n",
    "        start1 -= 1\n",
    "        if recorrido >= num_paso*paso:\n",
    "            plots_ort.append(paso_fin)\n",
    "            num_paso += 1\n",
    "    recorrido = 0\n",
    "    num_paso = 1\n",
    "    while recorrido < longitud:\n",
    "        paso_inicio = complex(coord2[start2][0],coord2[start2][1])\n",
    "        paso_fin = complex(coord2[start2-1][0],coord2[start2-1][1])\n",
    "        recorrido += abs(paso_fin-paso_inicio)*abs(sqrt(quad.QD((paso_inicio+paso_fin)/2)))\n",
    "        start2 -= 1\n",
    "        if recorrido >= num_paso*paso:\n",
    "            plots.append(paso_fin)\n",
    "            num_paso += 1\n",
    "    quad.plotpoints = quad.plotpoints + plots + plots_ort\n",
    "        "
   ]
  },
  {
   "cell_type": "code",
   "execution_count": null,
   "metadata": {
    "scrolled": false
   },
   "outputs": [],
   "source": [
    "fig9=plt.figure()\n",
    "quad9=QuadraticDifferential()\n",
    "quad_drawer9=QuadraticDrawer(quad9,fig9)\n",
    "quad_drawer9_ort=QuadraticDrawer(quad9,fig9)\n",
    "quad9.zeros=[complex(1.2,-1),complex(2,1.1),complex(-2,0.9), complex(-2.3,-1.7) ]\n",
    "quad9.dblpoles = [complex(2.5,-2.5), complex(2.6, 0.7), complex(-0.5, 0.4), complex(-1,-2)]\n",
    "hacer_reticula(quad9, complex(.6,-.6), 0.03, 0.48)\n",
    "quad9.phase=complex(1,0)\n",
    "quad_drawer9.draw_trajectories()\n",
    "quad9.phase=complex(-1,0)\n",
    "quad_drawer9_ort.draw_trajectories()\n",
    "limite= 5.0\n",
    "quad_drawer9.ax.set_ylim(-1*limite,limite)\n",
    "quad_drawer9.ax.set_xlim(-1*limite,limite)\n",
    "fig9.set_size_inches(10,10)"
   ]
  },
  {
   "cell_type": "code",
   "execution_count": null,
   "metadata": {
    "collapsed": true
   },
   "outputs": [],
   "source": []
  }
 ],
 "metadata": {
  "kernelspec": {
   "display_name": "Python 2",
   "language": "python",
   "name": "python2"
  },
  "language_info": {
   "codemirror_mode": {
    "name": "ipython",
    "version": 2
   },
   "file_extension": ".py",
   "mimetype": "text/x-python",
   "name": "python",
   "nbconvert_exporter": "python",
   "pygments_lexer": "ipython2",
   "version": "2.7.13"
  }
 },
 "nbformat": 4,
 "nbformat_minor": 2
}
