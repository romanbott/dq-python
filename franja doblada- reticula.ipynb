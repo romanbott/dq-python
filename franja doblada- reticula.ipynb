{
 "cells": [
  {
   "cell_type": "code",
   "execution_count": 2,
   "metadata": {},
   "outputs": [],
   "source": [
    "from dqnotebook import QuadraticDrawer\n",
    "%matplotlib notebook\n",
    "import matplotlib as mpl\n",
    "mpl.use(\"pgf\")\n",
    "from matplotlib.collections import LineCollection\n",
    "from scipy.integrate import odeint\n",
    "import sys\n",
    "import numpy as np\n",
    "from cmath import *\n",
    "from obj import Monodromy, QuadraticDifferential, integrar, fase_silla\n",
    "pgf_with_pdflatex = {\n",
    "    \"pgf.texsystem\": \"pdflatex\"\n",
    "}\n",
    "mpl.rcParams.update(pgf_with_pdflatex)\n",
    "mpl.rcParams['lines.linewidth'] = 10\n",
    "import matplotlib.pyplot as plt"
   ]
  },
  {
   "cell_type": "code",
   "execution_count": 3,
   "metadata": {
    "collapsed": true
   },
   "outputs": [],
   "source": [
    "lim = 100\n",
    "maxreps = 50000\n",
    "maxint = 1000\n",
    "t= np.linspace(0,.5,2) #intervalo temporal\n",
    "normav = 0.001\n",
    "normav = 0.1\n",
    "ri=sqrt(1j)\n",
    "ric=sqrt(-1j)"
   ]
  },
  {
   "cell_type": "code",
   "execution_count": 4,
   "metadata": {
    "collapsed": true
   },
   "outputs": [],
   "source": [
    "class TrajectorySolver:\n",
    "    \"\"\"clase que representa una trayectoria y los metodos para calcularla\"\"\"\n",
    "\n",
    "    def __init__(self, quad, plotpoint, spacing=.3, longmax = 100, phase = None):\n",
    "        self.qd = quad\n",
    "        if phase: self._phase = phase\n",
    "        else: self._phase = quad.phase\n",
    "        self.plotpoint = plotpoint\n",
    "        self.first = plotpoint\n",
    "        self.last = plotpoint\n",
    "        self.first_mon = Monodromy(quad(plotpoint).conjugate())\n",
    "        self.last_mon = Monodromy(quad(plotpoint).conjugate())\n",
    "        self.coordinates = np.array([[plotpoint.real, plotpoint.imag]])\n",
    "        self.spacing=spacing\n",
    "        self.longmax = longmax\n",
    "\n",
    "    def __call__(self):\n",
    "        print self._phase\n",
    "        if self._phase != self.qd.phase:\n",
    "            print self.qd.phase\n",
    "            phase_old = self.qd.phase\n",
    "            self.qd.phase = self._phase\n",
    "            print self.qd.phase\n",
    "        else:\n",
    "            phase_old = self._phase\n",
    "        if self.first == self.last:\n",
    "            self.tp()\n",
    "            self.tn()\n",
    "            sys.stdout.write(\".\")\n",
    "            sys.stdout.flush()\n",
    "        return self.coordinates\n",
    "\n",
    "    def traject(self, sign, mon, z):\n",
    "        norma = 0.5\n",
    "        coord = np.array([[z.real, z.imag]])\n",
    "        rep = 0\n",
    "        fin = z\n",
    "        inicio = z\n",
    "        ultimo = 0.0\n",
    "        start = z\n",
    "        longitud = 0.0\n",
    "        F = lambda y,t,mono: [sign*self.f(y,t,mono)[0],sign*self.f(y,t,mono)[1],normav*abs(sqrt(self.qd.QD(complex(y[0],y[1]))))]\n",
    "#        F = lambda y,t,mono: [sign*self.f(y,t,mono)[0],sign*self.f(y,t,mono)[1],normav]\n",
    "        while (self.qd.close_2pole(fin) and self.qd.close_2smplpole(fin) and norma < lim and rep < maxreps):\n",
    "            sol = odeint(F, [inicio.real, inicio.imag, longitud], t, mxstep = maxint, args=(mon,))\n",
    "            fin = complex(sol[-1,0], sol[-1,1])\n",
    "            mon(self.qd(fin).conjugate())\n",
    "            longitud = sol[-1,2]\n",
    "            if self.spacing < longitud-ultimo:\n",
    "                coord = np.append(coord, np.array([[fin.real, fin.imag]]), axis = 0)\n",
    "                ultimo = longitud\n",
    "                #ultimo = fin\n",
    "            if self.longmax < longitud:\n",
    "                break\n",
    "            inicio = fin\n",
    "            norma = abs(inicio)\n",
    "            if 500 < rep and 0.01 > abs(fin-start):\n",
    "                break\n",
    "            rep += 1\n",
    "        print longitud\n",
    "        return coord\n",
    "\n",
    "    def tp(self):\n",
    "        self.coordinates = np.vstack((self.coordinates,  self.traject(1, self.last_mon, self.last)))\n",
    "        self.last=complex(self.coordinates[-1][0], self.coordinates[-1][1])\n",
    "        return\n",
    "\n",
    "    def tn(self):\n",
    "        self.coordinates = np.vstack((self.traject(-1, self.first_mon, self.first)[::-1], self.coordinates))\n",
    "        self.first=complex(self.coordinates[0][0], self.coordinates[0][1])\n",
    "        return\n",
    "\n",
    "    def f(self, y, t, mono):\n",
    "        x = y[0]\n",
    "        y = y[1]\n",
    "        z = mono.dist(self.qd(complex(x,y)).conjugate())\n",
    "        z *= normav\n",
    "        #if abs(complex(x, y)) > 1:\n",
    "        #    z *= abs(complex(x,y))\n",
    "        return [z.real, z.imag]\n",
    "   "
   ]
  },
  {
   "cell_type": "code",
   "execution_count": null,
   "metadata": {
    "collapsed": true
   },
   "outputs": [],
   "source": [
    "def mid_point_saddle(z,w,quad):\n",
    "    longitud_silla=integrar(z,w,quad)\n",
    "    mid_lenght=abs(longitud_silla)/2\n",
    "    start=z+(w-z)*0.00001\n",
    "    fase=fase_silla(z,w,quad)\n",
    "    solver=TrajectorySolver(quad,start,mid_lenght,mid_lenght,fase)\n",
    "    puntos=solver()\n",
    "    mid_point=complex(puntos[-1][0],puntos[-1][1])\n",
    "    return mid_point"
   ]
  },
  {
   "cell_type": "code",
   "execution_count": 5,
   "metadata": {
    "collapsed": true
   },
   "outputs": [],
   "source": [
    "quad=QuadraticDifferential()"
   ]
  },
  {
   "cell_type": "code",
   "execution_count": 64,
   "metadata": {
    "collapsed": true
   },
   "outputs": [],
   "source": [
    "quad_sillas=QuadraticDifferential(quad)"
   ]
  },
  {
   "cell_type": "code",
   "execution_count": 37,
   "metadata": {
    "scrolled": false
   },
   "outputs": [
    {
     "data": {
      "application/javascript": [
       "/* Put everything inside the global mpl namespace */\n",
       "window.mpl = {};\n",
       "\n",
       "\n",
       "mpl.get_websocket_type = function() {\n",
       "    if (typeof(WebSocket) !== 'undefined') {\n",
       "        return WebSocket;\n",
       "    } else if (typeof(MozWebSocket) !== 'undefined') {\n",
       "        return MozWebSocket;\n",
       "    } else {\n",
       "        alert('Your browser does not have WebSocket support.' +\n",
       "              'Please try Chrome, Safari or Firefox ≥ 6. ' +\n",
       "              'Firefox 4 and 5 are also supported but you ' +\n",
       "              'have to enable WebSockets in about:config.');\n",
       "    };\n",
       "}\n",
       "\n",
       "mpl.figure = function(figure_id, websocket, ondownload, parent_element) {\n",
       "    this.id = figure_id;\n",
       "\n",
       "    this.ws = websocket;\n",
       "\n",
       "    this.supports_binary = (this.ws.binaryType != undefined);\n",
       "\n",
       "    if (!this.supports_binary) {\n",
       "        var warnings = document.getElementById(\"mpl-warnings\");\n",
       "        if (warnings) {\n",
       "            warnings.style.display = 'block';\n",
       "            warnings.textContent = (\n",
       "                \"This browser does not support binary websocket messages. \" +\n",
       "                    \"Performance may be slow.\");\n",
       "        }\n",
       "    }\n",
       "\n",
       "    this.imageObj = new Image();\n",
       "\n",
       "    this.context = undefined;\n",
       "    this.message = undefined;\n",
       "    this.canvas = undefined;\n",
       "    this.rubberband_canvas = undefined;\n",
       "    this.rubberband_context = undefined;\n",
       "    this.format_dropdown = undefined;\n",
       "\n",
       "    this.image_mode = 'full';\n",
       "\n",
       "    this.root = $('<div/>');\n",
       "    this._root_extra_style(this.root)\n",
       "    this.root.attr('style', 'display: inline-block');\n",
       "\n",
       "    $(parent_element).append(this.root);\n",
       "\n",
       "    this._init_header(this);\n",
       "    this._init_canvas(this);\n",
       "    this._init_toolbar(this);\n",
       "\n",
       "    var fig = this;\n",
       "\n",
       "    this.waiting = false;\n",
       "\n",
       "    this.ws.onopen =  function () {\n",
       "            fig.send_message(\"supports_binary\", {value: fig.supports_binary});\n",
       "            fig.send_message(\"send_image_mode\", {});\n",
       "            if (mpl.ratio != 1) {\n",
       "                fig.send_message(\"set_dpi_ratio\", {'dpi_ratio': mpl.ratio});\n",
       "            }\n",
       "            fig.send_message(\"refresh\", {});\n",
       "        }\n",
       "\n",
       "    this.imageObj.onload = function() {\n",
       "            if (fig.image_mode == 'full') {\n",
       "                // Full images could contain transparency (where diff images\n",
       "                // almost always do), so we need to clear the canvas so that\n",
       "                // there is no ghosting.\n",
       "                fig.context.clearRect(0, 0, fig.canvas.width, fig.canvas.height);\n",
       "            }\n",
       "            fig.context.drawImage(fig.imageObj, 0, 0);\n",
       "        };\n",
       "\n",
       "    this.imageObj.onunload = function() {\n",
       "        this.ws.close();\n",
       "    }\n",
       "\n",
       "    this.ws.onmessage = this._make_on_message_function(this);\n",
       "\n",
       "    this.ondownload = ondownload;\n",
       "}\n",
       "\n",
       "mpl.figure.prototype._init_header = function() {\n",
       "    var titlebar = $(\n",
       "        '<div class=\"ui-dialog-titlebar ui-widget-header ui-corner-all ' +\n",
       "        'ui-helper-clearfix\"/>');\n",
       "    var titletext = $(\n",
       "        '<div class=\"ui-dialog-title\" style=\"width: 100%; ' +\n",
       "        'text-align: center; padding: 3px;\"/>');\n",
       "    titlebar.append(titletext)\n",
       "    this.root.append(titlebar);\n",
       "    this.header = titletext[0];\n",
       "}\n",
       "\n",
       "\n",
       "\n",
       "mpl.figure.prototype._canvas_extra_style = function(canvas_div) {\n",
       "\n",
       "}\n",
       "\n",
       "\n",
       "mpl.figure.prototype._root_extra_style = function(canvas_div) {\n",
       "\n",
       "}\n",
       "\n",
       "mpl.figure.prototype._init_canvas = function() {\n",
       "    var fig = this;\n",
       "\n",
       "    var canvas_div = $('<div/>');\n",
       "\n",
       "    canvas_div.attr('style', 'position: relative; clear: both; outline: 0');\n",
       "\n",
       "    function canvas_keyboard_event(event) {\n",
       "        return fig.key_event(event, event['data']);\n",
       "    }\n",
       "\n",
       "    canvas_div.keydown('key_press', canvas_keyboard_event);\n",
       "    canvas_div.keyup('key_release', canvas_keyboard_event);\n",
       "    this.canvas_div = canvas_div\n",
       "    this._canvas_extra_style(canvas_div)\n",
       "    this.root.append(canvas_div);\n",
       "\n",
       "    var canvas = $('<canvas/>');\n",
       "    canvas.addClass('mpl-canvas');\n",
       "    canvas.attr('style', \"left: 0; top: 0; z-index: 0; outline: 0\")\n",
       "\n",
       "    this.canvas = canvas[0];\n",
       "    this.context = canvas[0].getContext(\"2d\");\n",
       "\n",
       "    var backingStore = this.context.backingStorePixelRatio ||\n",
       "\tthis.context.webkitBackingStorePixelRatio ||\n",
       "\tthis.context.mozBackingStorePixelRatio ||\n",
       "\tthis.context.msBackingStorePixelRatio ||\n",
       "\tthis.context.oBackingStorePixelRatio ||\n",
       "\tthis.context.backingStorePixelRatio || 1;\n",
       "\n",
       "    mpl.ratio = (window.devicePixelRatio || 1) / backingStore;\n",
       "\n",
       "    var rubberband = $('<canvas/>');\n",
       "    rubberband.attr('style', \"position: absolute; left: 0; top: 0; z-index: 1;\")\n",
       "\n",
       "    var pass_mouse_events = true;\n",
       "\n",
       "    canvas_div.resizable({\n",
       "        start: function(event, ui) {\n",
       "            pass_mouse_events = false;\n",
       "        },\n",
       "        resize: function(event, ui) {\n",
       "            fig.request_resize(ui.size.width, ui.size.height);\n",
       "        },\n",
       "        stop: function(event, ui) {\n",
       "            pass_mouse_events = true;\n",
       "            fig.request_resize(ui.size.width, ui.size.height);\n",
       "        },\n",
       "    });\n",
       "\n",
       "    function mouse_event_fn(event) {\n",
       "        if (pass_mouse_events)\n",
       "            return fig.mouse_event(event, event['data']);\n",
       "    }\n",
       "\n",
       "    rubberband.mousedown('button_press', mouse_event_fn);\n",
       "    rubberband.mouseup('button_release', mouse_event_fn);\n",
       "    // Throttle sequential mouse events to 1 every 20ms.\n",
       "    rubberband.mousemove('motion_notify', mouse_event_fn);\n",
       "\n",
       "    rubberband.mouseenter('figure_enter', mouse_event_fn);\n",
       "    rubberband.mouseleave('figure_leave', mouse_event_fn);\n",
       "\n",
       "    canvas_div.on(\"wheel\", function (event) {\n",
       "        event = event.originalEvent;\n",
       "        event['data'] = 'scroll'\n",
       "        if (event.deltaY < 0) {\n",
       "            event.step = 1;\n",
       "        } else {\n",
       "            event.step = -1;\n",
       "        }\n",
       "        mouse_event_fn(event);\n",
       "    });\n",
       "\n",
       "    canvas_div.append(canvas);\n",
       "    canvas_div.append(rubberband);\n",
       "\n",
       "    this.rubberband = rubberband;\n",
       "    this.rubberband_canvas = rubberband[0];\n",
       "    this.rubberband_context = rubberband[0].getContext(\"2d\");\n",
       "    this.rubberband_context.strokeStyle = \"#000000\";\n",
       "\n",
       "    this._resize_canvas = function(width, height) {\n",
       "        // Keep the size of the canvas, canvas container, and rubber band\n",
       "        // canvas in synch.\n",
       "        canvas_div.css('width', width)\n",
       "        canvas_div.css('height', height)\n",
       "\n",
       "        canvas.attr('width', width * mpl.ratio);\n",
       "        canvas.attr('height', height * mpl.ratio);\n",
       "        canvas.attr('style', 'width: ' + width + 'px; height: ' + height + 'px;');\n",
       "\n",
       "        rubberband.attr('width', width);\n",
       "        rubberband.attr('height', height);\n",
       "    }\n",
       "\n",
       "    // Set the figure to an initial 600x600px, this will subsequently be updated\n",
       "    // upon first draw.\n",
       "    this._resize_canvas(600, 600);\n",
       "\n",
       "    // Disable right mouse context menu.\n",
       "    $(this.rubberband_canvas).bind(\"contextmenu\",function(e){\n",
       "        return false;\n",
       "    });\n",
       "\n",
       "    function set_focus () {\n",
       "        canvas.focus();\n",
       "        canvas_div.focus();\n",
       "    }\n",
       "\n",
       "    window.setTimeout(set_focus, 100);\n",
       "}\n",
       "\n",
       "mpl.figure.prototype._init_toolbar = function() {\n",
       "    var fig = this;\n",
       "\n",
       "    var nav_element = $('<div/>')\n",
       "    nav_element.attr('style', 'width: 100%');\n",
       "    this.root.append(nav_element);\n",
       "\n",
       "    // Define a callback function for later on.\n",
       "    function toolbar_event(event) {\n",
       "        return fig.toolbar_button_onclick(event['data']);\n",
       "    }\n",
       "    function toolbar_mouse_event(event) {\n",
       "        return fig.toolbar_button_onmouseover(event['data']);\n",
       "    }\n",
       "\n",
       "    for(var toolbar_ind in mpl.toolbar_items) {\n",
       "        var name = mpl.toolbar_items[toolbar_ind][0];\n",
       "        var tooltip = mpl.toolbar_items[toolbar_ind][1];\n",
       "        var image = mpl.toolbar_items[toolbar_ind][2];\n",
       "        var method_name = mpl.toolbar_items[toolbar_ind][3];\n",
       "\n",
       "        if (!name) {\n",
       "            // put a spacer in here.\n",
       "            continue;\n",
       "        }\n",
       "        var button = $('<button/>');\n",
       "        button.addClass('ui-button ui-widget ui-state-default ui-corner-all ' +\n",
       "                        'ui-button-icon-only');\n",
       "        button.attr('role', 'button');\n",
       "        button.attr('aria-disabled', 'false');\n",
       "        button.click(method_name, toolbar_event);\n",
       "        button.mouseover(tooltip, toolbar_mouse_event);\n",
       "\n",
       "        var icon_img = $('<span/>');\n",
       "        icon_img.addClass('ui-button-icon-primary ui-icon');\n",
       "        icon_img.addClass(image);\n",
       "        icon_img.addClass('ui-corner-all');\n",
       "\n",
       "        var tooltip_span = $('<span/>');\n",
       "        tooltip_span.addClass('ui-button-text');\n",
       "        tooltip_span.html(tooltip);\n",
       "\n",
       "        button.append(icon_img);\n",
       "        button.append(tooltip_span);\n",
       "\n",
       "        nav_element.append(button);\n",
       "    }\n",
       "\n",
       "    var fmt_picker_span = $('<span/>');\n",
       "\n",
       "    var fmt_picker = $('<select/>');\n",
       "    fmt_picker.addClass('mpl-toolbar-option ui-widget ui-widget-content');\n",
       "    fmt_picker_span.append(fmt_picker);\n",
       "    nav_element.append(fmt_picker_span);\n",
       "    this.format_dropdown = fmt_picker[0];\n",
       "\n",
       "    for (var ind in mpl.extensions) {\n",
       "        var fmt = mpl.extensions[ind];\n",
       "        var option = $(\n",
       "            '<option/>', {selected: fmt === mpl.default_extension}).html(fmt);\n",
       "        fmt_picker.append(option)\n",
       "    }\n",
       "\n",
       "    // Add hover states to the ui-buttons\n",
       "    $( \".ui-button\" ).hover(\n",
       "        function() { $(this).addClass(\"ui-state-hover\");},\n",
       "        function() { $(this).removeClass(\"ui-state-hover\");}\n",
       "    );\n",
       "\n",
       "    var status_bar = $('<span class=\"mpl-message\"/>');\n",
       "    nav_element.append(status_bar);\n",
       "    this.message = status_bar[0];\n",
       "}\n",
       "\n",
       "mpl.figure.prototype.request_resize = function(x_pixels, y_pixels) {\n",
       "    // Request matplotlib to resize the figure. Matplotlib will then trigger a resize in the client,\n",
       "    // which will in turn request a refresh of the image.\n",
       "    this.send_message('resize', {'width': x_pixels, 'height': y_pixels});\n",
       "}\n",
       "\n",
       "mpl.figure.prototype.send_message = function(type, properties) {\n",
       "    properties['type'] = type;\n",
       "    properties['figure_id'] = this.id;\n",
       "    this.ws.send(JSON.stringify(properties));\n",
       "}\n",
       "\n",
       "mpl.figure.prototype.send_draw_message = function() {\n",
       "    if (!this.waiting) {\n",
       "        this.waiting = true;\n",
       "        this.ws.send(JSON.stringify({type: \"draw\", figure_id: this.id}));\n",
       "    }\n",
       "}\n",
       "\n",
       "\n",
       "mpl.figure.prototype.handle_save = function(fig, msg) {\n",
       "    var format_dropdown = fig.format_dropdown;\n",
       "    var format = format_dropdown.options[format_dropdown.selectedIndex].value;\n",
       "    fig.ondownload(fig, format);\n",
       "}\n",
       "\n",
       "\n",
       "mpl.figure.prototype.handle_resize = function(fig, msg) {\n",
       "    var size = msg['size'];\n",
       "    if (size[0] != fig.canvas.width || size[1] != fig.canvas.height) {\n",
       "        fig._resize_canvas(size[0], size[1]);\n",
       "        fig.send_message(\"refresh\", {});\n",
       "    };\n",
       "}\n",
       "\n",
       "mpl.figure.prototype.handle_rubberband = function(fig, msg) {\n",
       "    var x0 = msg['x0'] / mpl.ratio;\n",
       "    var y0 = (fig.canvas.height - msg['y0']) / mpl.ratio;\n",
       "    var x1 = msg['x1'] / mpl.ratio;\n",
       "    var y1 = (fig.canvas.height - msg['y1']) / mpl.ratio;\n",
       "    x0 = Math.floor(x0) + 0.5;\n",
       "    y0 = Math.floor(y0) + 0.5;\n",
       "    x1 = Math.floor(x1) + 0.5;\n",
       "    y1 = Math.floor(y1) + 0.5;\n",
       "    var min_x = Math.min(x0, x1);\n",
       "    var min_y = Math.min(y0, y1);\n",
       "    var width = Math.abs(x1 - x0);\n",
       "    var height = Math.abs(y1 - y0);\n",
       "\n",
       "    fig.rubberband_context.clearRect(\n",
       "        0, 0, fig.canvas.width, fig.canvas.height);\n",
       "\n",
       "    fig.rubberband_context.strokeRect(min_x, min_y, width, height);\n",
       "}\n",
       "\n",
       "mpl.figure.prototype.handle_figure_label = function(fig, msg) {\n",
       "    // Updates the figure title.\n",
       "    fig.header.textContent = msg['label'];\n",
       "}\n",
       "\n",
       "mpl.figure.prototype.handle_cursor = function(fig, msg) {\n",
       "    var cursor = msg['cursor'];\n",
       "    switch(cursor)\n",
       "    {\n",
       "    case 0:\n",
       "        cursor = 'pointer';\n",
       "        break;\n",
       "    case 1:\n",
       "        cursor = 'default';\n",
       "        break;\n",
       "    case 2:\n",
       "        cursor = 'crosshair';\n",
       "        break;\n",
       "    case 3:\n",
       "        cursor = 'move';\n",
       "        break;\n",
       "    }\n",
       "    fig.rubberband_canvas.style.cursor = cursor;\n",
       "}\n",
       "\n",
       "mpl.figure.prototype.handle_message = function(fig, msg) {\n",
       "    fig.message.textContent = msg['message'];\n",
       "}\n",
       "\n",
       "mpl.figure.prototype.handle_draw = function(fig, msg) {\n",
       "    // Request the server to send over a new figure.\n",
       "    fig.send_draw_message();\n",
       "}\n",
       "\n",
       "mpl.figure.prototype.handle_image_mode = function(fig, msg) {\n",
       "    fig.image_mode = msg['mode'];\n",
       "}\n",
       "\n",
       "mpl.figure.prototype.updated_canvas_event = function() {\n",
       "    // Called whenever the canvas gets updated.\n",
       "    this.send_message(\"ack\", {});\n",
       "}\n",
       "\n",
       "// A function to construct a web socket function for onmessage handling.\n",
       "// Called in the figure constructor.\n",
       "mpl.figure.prototype._make_on_message_function = function(fig) {\n",
       "    return function socket_on_message(evt) {\n",
       "        if (evt.data instanceof Blob) {\n",
       "            /* FIXME: We get \"Resource interpreted as Image but\n",
       "             * transferred with MIME type text/plain:\" errors on\n",
       "             * Chrome.  But how to set the MIME type?  It doesn't seem\n",
       "             * to be part of the websocket stream */\n",
       "            evt.data.type = \"image/png\";\n",
       "\n",
       "            /* Free the memory for the previous frames */\n",
       "            if (fig.imageObj.src) {\n",
       "                (window.URL || window.webkitURL).revokeObjectURL(\n",
       "                    fig.imageObj.src);\n",
       "            }\n",
       "\n",
       "            fig.imageObj.src = (window.URL || window.webkitURL).createObjectURL(\n",
       "                evt.data);\n",
       "            fig.updated_canvas_event();\n",
       "            fig.waiting = false;\n",
       "            return;\n",
       "        }\n",
       "        else if (typeof evt.data === 'string' && evt.data.slice(0, 21) == \"data:image/png;base64\") {\n",
       "            fig.imageObj.src = evt.data;\n",
       "            fig.updated_canvas_event();\n",
       "            fig.waiting = false;\n",
       "            return;\n",
       "        }\n",
       "\n",
       "        var msg = JSON.parse(evt.data);\n",
       "        var msg_type = msg['type'];\n",
       "\n",
       "        // Call the  \"handle_{type}\" callback, which takes\n",
       "        // the figure and JSON message as its only arguments.\n",
       "        try {\n",
       "            var callback = fig[\"handle_\" + msg_type];\n",
       "        } catch (e) {\n",
       "            console.log(\"No handler for the '\" + msg_type + \"' message type: \", msg);\n",
       "            return;\n",
       "        }\n",
       "\n",
       "        if (callback) {\n",
       "            try {\n",
       "                // console.log(\"Handling '\" + msg_type + \"' message: \", msg);\n",
       "                callback(fig, msg);\n",
       "            } catch (e) {\n",
       "                console.log(\"Exception inside the 'handler_\" + msg_type + \"' callback:\", e, e.stack, msg);\n",
       "            }\n",
       "        }\n",
       "    };\n",
       "}\n",
       "\n",
       "// from http://stackoverflow.com/questions/1114465/getting-mouse-location-in-canvas\n",
       "mpl.findpos = function(e) {\n",
       "    //this section is from http://www.quirksmode.org/js/events_properties.html\n",
       "    var targ;\n",
       "    if (!e)\n",
       "        e = window.event;\n",
       "    if (e.target)\n",
       "        targ = e.target;\n",
       "    else if (e.srcElement)\n",
       "        targ = e.srcElement;\n",
       "    if (targ.nodeType == 3) // defeat Safari bug\n",
       "        targ = targ.parentNode;\n",
       "\n",
       "    // jQuery normalizes the pageX and pageY\n",
       "    // pageX,Y are the mouse positions relative to the document\n",
       "    // offset() returns the position of the element relative to the document\n",
       "    var x = e.pageX - $(targ).offset().left;\n",
       "    var y = e.pageY - $(targ).offset().top;\n",
       "\n",
       "    return {\"x\": x, \"y\": y};\n",
       "};\n",
       "\n",
       "/*\n",
       " * return a copy of an object with only non-object keys\n",
       " * we need this to avoid circular references\n",
       " * http://stackoverflow.com/a/24161582/3208463\n",
       " */\n",
       "function simpleKeys (original) {\n",
       "  return Object.keys(original).reduce(function (obj, key) {\n",
       "    if (typeof original[key] !== 'object')\n",
       "        obj[key] = original[key]\n",
       "    return obj;\n",
       "  }, {});\n",
       "}\n",
       "\n",
       "mpl.figure.prototype.mouse_event = function(event, name) {\n",
       "    var canvas_pos = mpl.findpos(event)\n",
       "\n",
       "    if (name === 'button_press')\n",
       "    {\n",
       "        this.canvas.focus();\n",
       "        this.canvas_div.focus();\n",
       "    }\n",
       "\n",
       "    var x = canvas_pos.x * mpl.ratio;\n",
       "    var y = canvas_pos.y * mpl.ratio;\n",
       "\n",
       "    this.send_message(name, {x: x, y: y, button: event.button,\n",
       "                             step: event.step,\n",
       "                             guiEvent: simpleKeys(event)});\n",
       "\n",
       "    /* This prevents the web browser from automatically changing to\n",
       "     * the text insertion cursor when the button is pressed.  We want\n",
       "     * to control all of the cursor setting manually through the\n",
       "     * 'cursor' event from matplotlib */\n",
       "    event.preventDefault();\n",
       "    return false;\n",
       "}\n",
       "\n",
       "mpl.figure.prototype._key_event_extra = function(event, name) {\n",
       "    // Handle any extra behaviour associated with a key event\n",
       "}\n",
       "\n",
       "mpl.figure.prototype.key_event = function(event, name) {\n",
       "\n",
       "    // Prevent repeat events\n",
       "    if (name == 'key_press')\n",
       "    {\n",
       "        if (event.which === this._key)\n",
       "            return;\n",
       "        else\n",
       "            this._key = event.which;\n",
       "    }\n",
       "    if (name == 'key_release')\n",
       "        this._key = null;\n",
       "\n",
       "    var value = '';\n",
       "    if (event.ctrlKey && event.which != 17)\n",
       "        value += \"ctrl+\";\n",
       "    if (event.altKey && event.which != 18)\n",
       "        value += \"alt+\";\n",
       "    if (event.shiftKey && event.which != 16)\n",
       "        value += \"shift+\";\n",
       "\n",
       "    value += 'k';\n",
       "    value += event.which.toString();\n",
       "\n",
       "    this._key_event_extra(event, name);\n",
       "\n",
       "    this.send_message(name, {key: value,\n",
       "                             guiEvent: simpleKeys(event)});\n",
       "    return false;\n",
       "}\n",
       "\n",
       "mpl.figure.prototype.toolbar_button_onclick = function(name) {\n",
       "    if (name == 'download') {\n",
       "        this.handle_save(this, null);\n",
       "    } else {\n",
       "        this.send_message(\"toolbar_button\", {name: name});\n",
       "    }\n",
       "};\n",
       "\n",
       "mpl.figure.prototype.toolbar_button_onmouseover = function(tooltip) {\n",
       "    this.message.textContent = tooltip;\n",
       "};\n",
       "mpl.toolbar_items = [[\"Home\", \"Reset original view\", \"fa fa-home icon-home\", \"home\"], [\"Back\", \"Back to  previous view\", \"fa fa-arrow-left icon-arrow-left\", \"back\"], [\"Forward\", \"Forward to next view\", \"fa fa-arrow-right icon-arrow-right\", \"forward\"], [\"\", \"\", \"\", \"\"], [\"Pan\", \"Pan axes with left mouse, zoom with right\", \"fa fa-arrows icon-move\", \"pan\"], [\"Zoom\", \"Zoom to rectangle\", \"fa fa-square-o icon-check-empty\", \"zoom\"], [\"\", \"\", \"\", \"\"], [\"Download\", \"Download plot\", \"fa fa-floppy-o icon-save\", \"download\"]];\n",
       "\n",
       "mpl.extensions = [\"eps\", \"pdf\", \"png\", \"ps\", \"raw\", \"svg\"];\n",
       "\n",
       "mpl.default_extension = \"png\";var comm_websocket_adapter = function(comm) {\n",
       "    // Create a \"websocket\"-like object which calls the given IPython comm\n",
       "    // object with the appropriate methods. Currently this is a non binary\n",
       "    // socket, so there is still some room for performance tuning.\n",
       "    var ws = {};\n",
       "\n",
       "    ws.close = function() {\n",
       "        comm.close()\n",
       "    };\n",
       "    ws.send = function(m) {\n",
       "        //console.log('sending', m);\n",
       "        comm.send(m);\n",
       "    };\n",
       "    // Register the callback with on_msg.\n",
       "    comm.on_msg(function(msg) {\n",
       "        //console.log('receiving', msg['content']['data'], msg);\n",
       "        // Pass the mpl event to the overriden (by mpl) onmessage function.\n",
       "        ws.onmessage(msg['content']['data'])\n",
       "    });\n",
       "    return ws;\n",
       "}\n",
       "\n",
       "mpl.mpl_figure_comm = function(comm, msg) {\n",
       "    // This is the function which gets called when the mpl process\n",
       "    // starts-up an IPython Comm through the \"matplotlib\" channel.\n",
       "\n",
       "    var id = msg.content.data.id;\n",
       "    // Get hold of the div created by the display call when the Comm\n",
       "    // socket was opened in Python.\n",
       "    var element = $(\"#\" + id);\n",
       "    var ws_proxy = comm_websocket_adapter(comm)\n",
       "\n",
       "    function ondownload(figure, format) {\n",
       "        window.open(figure.imageObj.src);\n",
       "    }\n",
       "\n",
       "    var fig = new mpl.figure(id, ws_proxy,\n",
       "                           ondownload,\n",
       "                           element.get(0));\n",
       "\n",
       "    // Call onopen now - mpl needs it, as it is assuming we've passed it a real\n",
       "    // web socket which is closed, not our websocket->open comm proxy.\n",
       "    ws_proxy.onopen();\n",
       "\n",
       "    fig.parent_element = element.get(0);\n",
       "    fig.cell_info = mpl.find_output_cell(\"<div id='\" + id + \"'></div>\");\n",
       "    if (!fig.cell_info) {\n",
       "        console.error(\"Failed to find cell for figure\", id, fig);\n",
       "        return;\n",
       "    }\n",
       "\n",
       "    var output_index = fig.cell_info[2]\n",
       "    var cell = fig.cell_info[0];\n",
       "\n",
       "};\n",
       "\n",
       "mpl.figure.prototype.handle_close = function(fig, msg) {\n",
       "    var width = fig.canvas.width/mpl.ratio\n",
       "    fig.root.unbind('remove')\n",
       "\n",
       "    // Update the output cell to use the data from the current canvas.\n",
       "    fig.push_to_output();\n",
       "    var dataURL = fig.canvas.toDataURL();\n",
       "    // Re-enable the keyboard manager in IPython - without this line, in FF,\n",
       "    // the notebook keyboard shortcuts fail.\n",
       "    IPython.keyboard_manager.enable()\n",
       "    $(fig.parent_element).html('<img src=\"' + dataURL + '\" width=\"' + width + '\">');\n",
       "    fig.close_ws(fig, msg);\n",
       "}\n",
       "\n",
       "mpl.figure.prototype.close_ws = function(fig, msg){\n",
       "    fig.send_message('closing', msg);\n",
       "    // fig.ws.close()\n",
       "}\n",
       "\n",
       "mpl.figure.prototype.push_to_output = function(remove_interactive) {\n",
       "    // Turn the data on the canvas into data in the output cell.\n",
       "    var width = this.canvas.width/mpl.ratio\n",
       "    var dataURL = this.canvas.toDataURL();\n",
       "    this.cell_info[1]['text/html'] = '<img src=\"' + dataURL + '\" width=\"' + width + '\">';\n",
       "}\n",
       "\n",
       "mpl.figure.prototype.updated_canvas_event = function() {\n",
       "    // Tell IPython that the notebook contents must change.\n",
       "    IPython.notebook.set_dirty(true);\n",
       "    this.send_message(\"ack\", {});\n",
       "    var fig = this;\n",
       "    // Wait a second, then push the new image to the DOM so\n",
       "    // that it is saved nicely (might be nice to debounce this).\n",
       "    setTimeout(function () { fig.push_to_output() }, 1000);\n",
       "}\n",
       "\n",
       "mpl.figure.prototype._init_toolbar = function() {\n",
       "    var fig = this;\n",
       "\n",
       "    var nav_element = $('<div/>')\n",
       "    nav_element.attr('style', 'width: 100%');\n",
       "    this.root.append(nav_element);\n",
       "\n",
       "    // Define a callback function for later on.\n",
       "    function toolbar_event(event) {\n",
       "        return fig.toolbar_button_onclick(event['data']);\n",
       "    }\n",
       "    function toolbar_mouse_event(event) {\n",
       "        return fig.toolbar_button_onmouseover(event['data']);\n",
       "    }\n",
       "\n",
       "    for(var toolbar_ind in mpl.toolbar_items){\n",
       "        var name = mpl.toolbar_items[toolbar_ind][0];\n",
       "        var tooltip = mpl.toolbar_items[toolbar_ind][1];\n",
       "        var image = mpl.toolbar_items[toolbar_ind][2];\n",
       "        var method_name = mpl.toolbar_items[toolbar_ind][3];\n",
       "\n",
       "        if (!name) { continue; };\n",
       "\n",
       "        var button = $('<button class=\"btn btn-default\" href=\"#\" title=\"' + name + '\"><i class=\"fa ' + image + ' fa-lg\"></i></button>');\n",
       "        button.click(method_name, toolbar_event);\n",
       "        button.mouseover(tooltip, toolbar_mouse_event);\n",
       "        nav_element.append(button);\n",
       "    }\n",
       "\n",
       "    // Add the status bar.\n",
       "    var status_bar = $('<span class=\"mpl-message\" style=\"text-align:right; float: right;\"/>');\n",
       "    nav_element.append(status_bar);\n",
       "    this.message = status_bar[0];\n",
       "\n",
       "    // Add the close button to the window.\n",
       "    var buttongrp = $('<div class=\"btn-group inline pull-right\"></div>');\n",
       "    var button = $('<button class=\"btn btn-mini btn-primary\" href=\"#\" title=\"Stop Interaction\"><i class=\"fa fa-power-off icon-remove icon-large\"></i></button>');\n",
       "    button.click(function (evt) { fig.handle_close(fig, {}); } );\n",
       "    button.mouseover('Stop Interaction', toolbar_mouse_event);\n",
       "    buttongrp.append(button);\n",
       "    var titlebar = this.root.find($('.ui-dialog-titlebar'));\n",
       "    titlebar.prepend(buttongrp);\n",
       "}\n",
       "\n",
       "mpl.figure.prototype._root_extra_style = function(el){\n",
       "    var fig = this\n",
       "    el.on(\"remove\", function(){\n",
       "\tfig.close_ws(fig, {});\n",
       "    });\n",
       "}\n",
       "\n",
       "mpl.figure.prototype._canvas_extra_style = function(el){\n",
       "    // this is important to make the div 'focusable\n",
       "    el.attr('tabindex', 0)\n",
       "    // reach out to IPython and tell the keyboard manager to turn it's self\n",
       "    // off when our div gets focus\n",
       "\n",
       "    // location in version 3\n",
       "    if (IPython.notebook.keyboard_manager) {\n",
       "        IPython.notebook.keyboard_manager.register_events(el);\n",
       "    }\n",
       "    else {\n",
       "        // location in version 2\n",
       "        IPython.keyboard_manager.register_events(el);\n",
       "    }\n",
       "\n",
       "}\n",
       "\n",
       "mpl.figure.prototype._key_event_extra = function(event, name) {\n",
       "    var manager = IPython.notebook.keyboard_manager;\n",
       "    if (!manager)\n",
       "        manager = IPython.keyboard_manager;\n",
       "\n",
       "    // Check for shift+enter\n",
       "    if (event.shiftKey && event.which == 13) {\n",
       "        this.canvas_div.blur();\n",
       "        // select the cell after this one\n",
       "        var index = IPython.notebook.find_cell_index(this.cell_info[0]);\n",
       "        IPython.notebook.select(index + 1);\n",
       "    }\n",
       "}\n",
       "\n",
       "mpl.figure.prototype.handle_save = function(fig, msg) {\n",
       "    fig.ondownload(fig, null);\n",
       "}\n",
       "\n",
       "\n",
       "mpl.find_output_cell = function(html_output) {\n",
       "    // Return the cell and output element which can be found *uniquely* in the notebook.\n",
       "    // Note - this is a bit hacky, but it is done because the \"notebook_saving.Notebook\"\n",
       "    // IPython event is triggered only after the cells have been serialised, which for\n",
       "    // our purposes (turning an active figure into a static one), is too late.\n",
       "    var cells = IPython.notebook.get_cells();\n",
       "    var ncells = cells.length;\n",
       "    for (var i=0; i<ncells; i++) {\n",
       "        var cell = cells[i];\n",
       "        if (cell.cell_type === 'code'){\n",
       "            for (var j=0; j<cell.output_area.outputs.length; j++) {\n",
       "                var data = cell.output_area.outputs[j];\n",
       "                if (data.data) {\n",
       "                    // IPython >= 3 moved mimebundle to data attribute of output\n",
       "                    data = data.data;\n",
       "                }\n",
       "                if (data['text/html'] == html_output) {\n",
       "                    return [cell, data, j];\n",
       "                }\n",
       "            }\n",
       "        }\n",
       "    }\n",
       "}\n",
       "\n",
       "// Register the function which deals with the matplotlib target/channel.\n",
       "// The kernel may be null if the page has been refreshed.\n",
       "if (IPython.notebook.kernel != null) {\n",
       "    IPython.notebook.kernel.comm_manager.register_target('matplotlib', mpl.mpl_figure_comm);\n",
       "}\n"
      ],
      "text/plain": [
       "<IPython.core.display.Javascript object>"
      ]
     },
     "metadata": {},
     "output_type": "display_data"
    },
    {
     "data": {
      "text/html": [
       "<img src=\"data:image/png;base64,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\" width=\"500\">"
      ],
      "text/plain": [
       "<IPython.core.display.HTML object>"
      ]
     },
     "metadata": {},
     "output_type": "display_data"
    }
   ],
   "source": [
    "fig=plt.figure()"
   ]
  },
  {
   "cell_type": "code",
   "execution_count": 80,
   "metadata": {
    "collapsed": true
   },
   "outputs": [],
   "source": [
    "quad_drawer=QuadraticDrawer(quad,fig,.15)\n",
    "limite= 6\n",
    "#quad_drawer.ax.set_ylim(-1*limite,limite)\n",
    "#quad_drawer.ax.set_xlim(-1*limite,limite)\n",
    "quad_drawer.ax.set_ylim(-3.5,3.5)\n",
    "quad_drawer.ax.set_xlim(-6.5,0.5)\n",
    "fig.set_size_inches(5,5)\n",
    "plt.axis('on')\n",
    "plt.tick_params(axis='both', which='both', bottom='off', top='off', labelbottom='off', right='off', left='off', labelleft='off')"
   ]
  },
  {
   "cell_type": "code",
   "execution_count": 77,
   "metadata": {
    "collapsed": true
   },
   "outputs": [],
   "source": [
    "quad_drawer_sillas=QuadraticDrawer(quad_sillas,fig,.35, 'g')"
   ]
  },
  {
   "cell_type": "code",
   "execution_count": 70,
   "metadata": {},
   "outputs": [],
   "source": [
    "quad_sillas.phase = quad.phase"
   ]
  },
  {
   "cell_type": "code",
   "execution_count": 71,
   "metadata": {
    "collapsed": true
   },
   "outputs": [],
   "source": [
    "quad_sillas.plotpoints = [z1+complex(0,0.01),z1+complex(0,-0.01)]"
   ]
  },
  {
   "cell_type": "code",
   "execution_count": 78,
   "metadata": {},
   "outputs": [
    {
     "name": "stdout",
     "output_type": "stream",
     "text": [
      "\n"
     ]
    }
   ],
   "source": [
    "quad_drawer_sillas.draw_trajectories()"
   ]
  },
  {
   "cell_type": "code",
   "execution_count": null,
   "metadata": {
    "collapsed": true,
    "scrolled": true
   },
   "outputs": [],
   "source": [
    "mm=draw_saddle(quad,fig,z4,z3)"
   ]
  },
  {
   "cell_type": "code",
   "execution_count": null,
   "metadata": {
    "collapsed": true
   },
   "outputs": [],
   "source": [
    "mm[0].plotpoints"
   ]
  },
  {
   "cell_type": "code",
   "execution_count": null,
   "metadata": {
    "collapsed": true
   },
   "outputs": [],
   "source": [
    "quad_drawer.trajectories.set_color([(.5,.5,.5)])"
   ]
  },
  {
   "cell_type": "code",
   "execution_count": null,
   "metadata": {
    "collapsed": true
   },
   "outputs": [],
   "source": [
    "quad_drawer_sillas.trajectories.set_color([(1,0,0)])"
   ]
  },
  {
   "cell_type": "code",
   "execution_count": 58,
   "metadata": {
    "collapsed": true
   },
   "outputs": [],
   "source": [
    "#quad.zeros=[complex(0,0)]\n",
    "z1=complex(-1,0)\n",
    "z2=complex(1,-2)\n",
    "z3=complex(2,1.2)\n",
    "z4=complex(3.5,-2)\n",
    "w1 = complex(-2,-4)\n",
    "w2 = complex(-4,0)\n",
    "#quad.dblpoles = [complex(-3.3,2.3),complex(3.1,3),complex(-2.5,-0.5),complex(2,0)]\n",
    "quad.dblpoles = [complex(-3.3,2.3),complex(-2.5,-0.5)]\n",
    "sp = complex(10,0)\n",
    "quad.smplpoles = [sp]\n",
    "#quad.zeros = [z1,z3,z4]\n",
    "quad.zeros = [z1]\n",
    "quad.plotpoints = []\n",
    "for x in quad.zeros:\n",
    "    plt.plot([x.real],[x.imag],'bo',ms=3,)\n",
    "for x in quad.dblpoles:\n",
    "    plt.plot([x.real],[x.imag],'go',ms=3,)"
   ]
  },
  {
   "cell_type": "code",
   "execution_count": null,
   "metadata": {
    "collapsed": true
   },
   "outputs": [],
   "source": [
    "def draw_saddle(quad, fig, z1, z2, color='r'):\n",
    "    mid = mid_point_saddle(z1,z2,quad)\n",
    "    plt.plot([mid.real],[mid.imag],'ro',ms=3)\n",
    "    fase = fase_silla(z1,z2,quad)\n",
    "    quad_silla = QuadraticDifferential(quad)\n",
    "    quad_silla.phase = fase\n",
    "    quad_silla.plotpoints = [mid]\n",
    "    longitud_silla=abs(integrar(z1,z2,quad))/2.01\n",
    "    drawer = QuadraticDrawer(quad_silla,fig)\n",
    "    drawer.trajectories.set_color(color)\n",
    "    t= TrajectorySolver(quad_silla,mid, longitud_silla/100, longitud_silla*1.01, fase)\n",
    "    segmentos = t()\n",
    "    drawer.trajectories.set_segments([segmentos])\n",
    "    return [quad_silla, drawer]"
   ]
  },
  {
   "cell_type": "code",
   "execution_count": 53,
   "metadata": {
    "collapsed": true
   },
   "outputs": [],
   "source": [
    "def draw_traj(quad, fig, plot, phase, longitud, color='r'):\n",
    "    mid = plot\n",
    "    plt.plot([mid.real],[mid.imag],'ro',ms=3)\n",
    "    fase = phase\n",
    "    quad_silla = QuadraticDifferential(quad)\n",
    "    quad_silla.phase = fase\n",
    "    quad_silla.plotpoints = [mid]\n",
    "    longitud_silla=longitud\n",
    "    drawer = QuadraticDrawer(quad_silla,fig)\n",
    "    drawer.trajectories.set_color(color)\n",
    "    t= TrajectorySolver(quad_silla,mid, longitud_silla/100, longitud_silla*1.01, fase)\n",
    "    segmentos = t()\n",
    "    drawer.trajectories.set_segments([segmentos])\n",
    "    return [quad_silla, drawer]"
   ]
  },
  {
   "cell_type": "code",
   "execution_count": 54,
   "metadata": {},
   "outputs": [
    {
     "name": "stdout",
     "output_type": "stream",
     "text": [
      "(0.962472051551+0.271380820957j)\n",
      "0.387373787358\n",
      "0.387373990089\n",
      "."
     ]
    },
    {
     "data": {
      "text/plain": [
       "[<obj.QuadraticDifferential instance at 0x7fa45d6d2908>,\n",
       " <dqnotebook.QuadraticDrawer instance at 0x7fa45d6d2a28>]"
      ]
     },
     "execution_count": 54,
     "metadata": {},
     "output_type": "execute_result"
    }
   ],
   "source": [
    "draw_traj(quad,fig, mid_point, fase_pasos, longitud_pasoss)"
   ]
  },
  {
   "cell_type": "code",
   "execution_count": null,
   "metadata": {
    "collapsed": true
   },
   "outputs": [],
   "source": [
    "#quad.zeros=[complex(0,0)]\n",
    "quad_sillas.dblpoles = [complex(-3.3,2.3),complex(3.1,3),complex(-2,-1.5),complex(2,0)]\n",
    "quad_sillas.zeros = [z1,z2 ,z3,z4]\n",
    "quad_sillas.plotpoints = [m1]\n",
    "quad_sillas.phase=fase1"
   ]
  },
  {
   "cell_type": "code",
   "execution_count": null,
   "metadata": {
    "collapsed": true
   },
   "outputs": [],
   "source": [
    "quad_drawer_sillas.draw_trajectories()"
   ]
  },
  {
   "cell_type": "code",
   "execution_count": 81,
   "metadata": {
    "collapsed": true
   },
   "outputs": [],
   "source": [
    "plt.savefig('franja_doblada4_silla.pgf')"
   ]
  },
  {
   "cell_type": "code",
   "execution_count": null,
   "metadata": {
    "collapsed": true
   },
   "outputs": [],
   "source": [
    "m1=mid_point_saddle(z1,z2,quad)\n",
    "fase1=fase_silla(z1,z2,quad)\n",
    "longitud_silla1=abs(integrar(z1,z2,quad))/2.01\n",
    "solver1 = TrajectorySolver(quad,m1,longitud_silla1/10,longitud_silla1*1.1,fase1)\n",
    "puntos1=solver1()\n",
    "for x in range(puntos1.shape[0]):\n",
    "    quad.add_plotpoint(complex(puntos1[x][0],puntos1[x][1]))"
   ]
  },
  {
   "cell_type": "code",
   "execution_count": 10,
   "metadata": {},
   "outputs": [],
   "source": [
    "long_pasos1 = integrar(z1,w1,quad)\n",
    "long_pasos2 = integrar(w1,w2,quad)\n",
    "long_pasos3 = integrar(w2,z1,quad)"
   ]
  },
  {
   "cell_type": "code",
   "execution_count": 14,
   "metadata": {},
   "outputs": [
    {
     "data": {
      "text/plain": [
       "(0.11206926695007043+0.09305044126843227j)"
      ]
     },
     "execution_count": 14,
     "metadata": {},
     "output_type": "execute_result"
    }
   ],
   "source": [
    "long_pasos1"
   ]
  },
  {
   "cell_type": "code",
   "execution_count": 15,
   "metadata": {},
   "outputs": [
    {
     "data": {
      "text/plain": [
       "(-0.27296523555946156-0.004191203483187776j)"
      ]
     },
     "execution_count": 15,
     "metadata": {},
     "output_type": "execute_result"
    }
   ],
   "source": [
    "long_pasos2"
   ]
  },
  {
   "cell_type": "code",
   "execution_count": 16,
   "metadata": {},
   "outputs": [
    {
     "data": {
      "text/plain": [
       "(0.3748105178056423-0.2023169579263492j)"
      ]
     },
     "execution_count": 16,
     "metadata": {},
     "output_type": "execute_result"
    }
   ],
   "source": [
    "long_pasos3"
   ]
  },
  {
   "cell_type": "code",
   "execution_count": 17,
   "metadata": {
    "collapsed": true
   },
   "outputs": [],
   "source": [
    "long_pasos=+long_pasos1-long_pasos2+long_pasos3"
   ]
  },
  {
   "cell_type": "code",
   "execution_count": 18,
   "metadata": {
    "collapsed": true
   },
   "outputs": [],
   "source": [
    "fase_pasos = long_pasos/abs(long_pasos)\n",
    "fase_pasos = fase_pasos**2\n",
    "fase_pasos = fase_pasos.conjugate()"
   ]
  },
  {
   "cell_type": "code",
   "execution_count": 19,
   "metadata": {
    "collapsed": true
   },
   "outputs": [],
   "source": [
    "lim = 20\n",
    "maxreps = 500000\n",
    "maxint = 2000\n",
    "t= np.linspace(0,.5,100) #intervalo temporal\n",
    "normav = 0.001\n",
    "normav = 0.0001\n",
    "ri=sqrt(1j)\n",
    "ric=sqrt(-1j)"
   ]
  },
  {
   "cell_type": "code",
   "execution_count": 20,
   "metadata": {
    "scrolled": false
   },
   "outputs": [
    {
     "name": "stdout",
     "output_type": "stream",
     "text": [
      "(0.962472051551+0.271380820957j)\n",
      "(1+0j)\n",
      "(0.962472051551+0.271380820957j)\n",
      "0.383539651009\n",
      "0.383545779219\n",
      "."
     ]
    }
   ],
   "source": [
    "mid_lenght=abs(long_pasos)/2\n",
    "start=z1+(w1-z1)*0.0005\n",
    "solver_pasos=TrajectorySolver(quad,start,mid_lenght,mid_lenght,fase_pasos)\n",
    "puntos_pasos=solver_pasos()\n",
    "mid_point=complex(puntos_pasos[-1][0],puntos_pasos[-1][1])"
   ]
  },
  {
   "cell_type": "code",
   "execution_count": null,
   "metadata": {
    "collapsed": true
   },
   "outputs": [],
   "source": [
    "mid_point"
   ]
  },
  {
   "cell_type": "code",
   "execution_count": 21,
   "metadata": {},
   "outputs": [
    {
     "data": {
      "text/plain": [
       "[<matplotlib.lines.Line2D at 0x7fa461ab62d0>]"
      ]
     },
     "execution_count": 21,
     "metadata": {},
     "output_type": "execute_result"
    }
   ],
   "source": [
    "plt.plot([mid_point.real],[mid_point.imag],'ko')"
   ]
  },
  {
   "cell_type": "code",
   "execution_count": 26,
   "metadata": {},
   "outputs": [
    {
     "name": "stdout",
     "output_type": "stream",
     "text": [
      "(0.962472051551+0.271380820957j)\n",
      "0.421891809755\n",
      "0.421895150283\n",
      "."
     ]
    }
   ],
   "source": [
    "longitud_pasoss=abs(long_pasos)/2.\n",
    "solver_pasoss = TrajectorySolver(quad,mid_point,longitud_pasoss/11,longitud_pasoss*1.1,fase_pasos)\n",
    "puntos_pasoss=solver_pasoss()\n",
    "for x in range(puntos_pasoss.shape[0]):\n",
    "    quad.add_plotpoint(complex(puntos_pasoss[x][0],puntos_pasoss[x][1]))\n",
    "    plt.plot([puntos_pasoss[x][0]],[puntos_pasoss[x][1]],'go')"
   ]
  },
  {
   "cell_type": "code",
   "execution_count": null,
   "metadata": {
    "collapsed": true
   },
   "outputs": [],
   "source": [
    "quad.trajectories ={}"
   ]
  },
  {
   "cell_type": "code",
   "execution_count": null,
   "metadata": {
    "collapsed": true
   },
   "outputs": [],
   "source": [
    "fase_pasos"
   ]
  },
  {
   "cell_type": "code",
   "execution_count": 40,
   "metadata": {
    "collapsed": true
   },
   "outputs": [],
   "source": [
    "quad.phase=complex(1,-.5*pi)"
   ]
  },
  {
   "cell_type": "code",
   "execution_count": 45,
   "metadata": {
    "scrolled": true
   },
   "outputs": [
    {
     "name": "stdout",
     "output_type": "stream",
     "text": [
      "\n"
     ]
    }
   ],
   "source": [
    "quad_drawer.draw_trajectories()"
   ]
  },
  {
   "cell_type": "code",
   "execution_count": 24,
   "metadata": {
    "collapsed": true
   },
   "outputs": [],
   "source": [
    "quad.phase=fase_pasos\n",
    "quad.plotpoints = [mid_point]"
   ]
  },
  {
   "cell_type": "code",
   "execution_count": null,
   "metadata": {
    "collapsed": true,
    "scrolled": true
   },
   "outputs": [],
   "source": [
    "plt.savefig('franja4.pgf')"
   ]
  }
 ],
 "metadata": {
  "kernelspec": {
   "display_name": "Python 2",
   "language": "python",
   "name": "python2"
  },
  "language_info": {
   "codemirror_mode": {
    "name": "ipython",
    "version": 2
   },
   "file_extension": ".py",
   "mimetype": "text/x-python",
   "name": "python",
   "nbconvert_exporter": "python",
   "pygments_lexer": "ipython2",
   "version": "2.7.13"
  }
 },
 "nbformat": 4,
 "nbformat_minor": 2
}
