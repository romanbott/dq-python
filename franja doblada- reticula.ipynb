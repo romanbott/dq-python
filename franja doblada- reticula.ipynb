{
 "cells": [
  {
   "cell_type": "code",
   "execution_count": 2,
   "metadata": {},
   "outputs": [],
   "source": [
    "from dqnotebook import QuadraticDrawer\n",
    "%matplotlib notebook\n",
    "import matplotlib as mpl\n",
    "mpl.use(\"pgf\")\n",
    "from matplotlib.collections import LineCollection\n",
    "from scipy.integrate import odeint\n",
    "import sys\n",
    "import numpy as np\n",
    "from cmath import *\n",
    "from obj import Monodromy, QuadraticDifferential, integrar, fase_silla\n",
    "pgf_with_pdflatex = {\n",
    "    \"pgf.texsystem\": \"pdflatex\"\n",
    "}\n",
    "mpl.rcParams.update(pgf_with_pdflatex)\n",
    "mpl.rcParams['lines.linewidth'] = 10\n",
    "import matplotlib.pyplot as plt"
   ]
  },
  {
   "cell_type": "code",
   "execution_count": 3,
   "metadata": {
    "collapsed": true
   },
   "outputs": [],
   "source": [
    "lim = 100\n",
    "maxreps = 50000\n",
    "maxint = 1000\n",
    "t= np.linspace(0,.5,2) #intervalo temporal\n",
    "normav = 0.001\n",
    "normav = 0.1\n",
    "ri=sqrt(1j)\n",
    "ric=sqrt(-1j)"
   ]
  },
  {
   "cell_type": "code",
   "execution_count": 4,
   "metadata": {
    "collapsed": true
   },
   "outputs": [],
   "source": [
    "class TrajectorySolver:\n",
    "    \"\"\"clase que representa una trayectoria y los metodos para calcularla\"\"\"\n",
    "\n",
    "    def __init__(self, quad, plotpoint, spacing=.3, longmax = 100, phase = None):\n",
    "        self.qd = quad\n",
    "        if phase: self._phase = phase\n",
    "        else: self._phase = quad.phase\n",
    "        self.plotpoint = plotpoint\n",
    "        self.first = plotpoint\n",
    "        self.last = plotpoint\n",
    "        self.first_mon = Monodromy(quad(plotpoint).conjugate())\n",
    "        self.last_mon = Monodromy(quad(plotpoint).conjugate())\n",
    "        self.coordinates = np.array([[plotpoint.real, plotpoint.imag]])\n",
    "        self.spacing=spacing\n",
    "        self.longmax = longmax\n",
    "\n",
    "    def __call__(self):\n",
    "        print self._phase\n",
    "        if self._phase != self.qd.phase:\n",
    "            print self.qd.phase\n",
    "            phase_old = self.qd.phase\n",
    "            self.qd.phase = self._phase\n",
    "            print self.qd.phase\n",
    "        else:\n",
    "            phase_old = self._phase\n",
    "        if self.first == self.last:\n",
    "            self.tp()\n",
    "            self.tn()\n",
    "            sys.stdout.write(\".\")\n",
    "            sys.stdout.flush()\n",
    "        return self.coordinates\n",
    "\n",
    "    def traject(self, sign, mon, z):\n",
    "        norma = 0.5\n",
    "        coord = np.array([[z.real, z.imag]])\n",
    "        rep = 0\n",
    "        fin = z\n",
    "        inicio = z\n",
    "        ultimo = 0.0\n",
    "        start = z\n",
    "        longitud = 0.0\n",
    "        F = lambda y,t,mono: [sign*self.f(y,t,mono)[0],sign*self.f(y,t,mono)[1],normav*abs(sqrt(self.qd.QD(complex(y[0],y[1]))))]\n",
    "#        F = lambda y,t,mono: [sign*self.f(y,t,mono)[0],sign*self.f(y,t,mono)[1],normav]\n",
    "        while (self.qd.close_2pole(fin) and self.qd.close_2smplpole(fin) and norma < lim and rep < maxreps):\n",
    "            sol = odeint(F, [inicio.real, inicio.imag, longitud], t, mxstep = maxint, args=(mon,))\n",
    "            fin = complex(sol[-1,0], sol[-1,1])\n",
    "            mon(self.qd(fin).conjugate())\n",
    "            longitud = sol[-1,2]\n",
    "            if self.spacing < longitud-ultimo:\n",
    "                coord = np.append(coord, np.array([[fin.real, fin.imag]]), axis = 0)\n",
    "                ultimo = longitud\n",
    "                #ultimo = fin\n",
    "            if self.longmax < longitud:\n",
    "                break\n",
    "            inicio = fin\n",
    "            norma = abs(inicio)\n",
    "            if 500 < rep and 0.01 > abs(fin-start):\n",
    "                break\n",
    "            rep += 1\n",
    "        print longitud\n",
    "        return coord\n",
    "\n",
    "    def tp(self):\n",
    "        self.coordinates = np.vstack((self.coordinates,  self.traject(1, self.last_mon, self.last)))\n",
    "        self.last=complex(self.coordinates[-1][0], self.coordinates[-1][1])\n",
    "        return\n",
    "\n",
    "    def tn(self):\n",
    "        self.coordinates = np.vstack((self.traject(-1, self.first_mon, self.first)[::-1], self.coordinates))\n",
    "        self.first=complex(self.coordinates[0][0], self.coordinates[0][1])\n",
    "        return\n",
    "\n",
    "    def f(self, y, t, mono):\n",
    "        x = y[0]\n",
    "        y = y[1]\n",
    "        z = mono.dist(self.qd(complex(x,y)).conjugate())\n",
    "        z *= normav\n",
    "        #if abs(complex(x, y)) > 1:\n",
    "        #    z *= abs(complex(x,y))\n",
    "        return [z.real, z.imag]\n",
    "   "
   ]
  },
  {
   "cell_type": "code",
   "execution_count": null,
   "metadata": {
    "collapsed": true
   },
   "outputs": [],
   "source": [
    "def mid_point_saddle(z,w,quad):\n",
    "    longitud_silla=integrar(z,w,quad)\n",
    "    mid_lenght=abs(longitud_silla)/2\n",
    "    start=z+(w-z)*0.00001\n",
    "    fase=fase_silla(z,w,quad)\n",
    "    solver=TrajectorySolver(quad,start,mid_lenght,mid_lenght,fase)\n",
    "    puntos=solver()\n",
    "    mid_point=complex(puntos[-1][0],puntos[-1][1])\n",
    "    return mid_point"
   ]
  },
  {
   "cell_type": "code",
   "execution_count": 5,
   "metadata": {
    "collapsed": true
   },
   "outputs": [],
   "source": [
    "quad=QuadraticDifferential()"
   ]
  },
  {
   "cell_type": "code",
   "execution_count": 64,
   "metadata": {
    "collapsed": true
   },
   "outputs": [],
   "source": [
    "quad_sillas=QuadraticDifferential(quad)"
   ]
  },
  {
   "cell_type": "code",
   "execution_count": 84,
   "metadata": {
    "scrolled": false
   },
   "outputs": [
    {
     "data": {
      "application/javascript": [
       "/* Put everything inside the global mpl namespace */\n",
       "window.mpl = {};\n",
       "\n",
       "\n",
       "mpl.get_websocket_type = function() {\n",
       "    if (typeof(WebSocket) !== 'undefined') {\n",
       "        return WebSocket;\n",
       "    } else if (typeof(MozWebSocket) !== 'undefined') {\n",
       "        return MozWebSocket;\n",
       "    } else {\n",
       "        alert('Your browser does not have WebSocket support.' +\n",
       "              'Please try Chrome, Safari or Firefox ≥ 6. ' +\n",
       "              'Firefox 4 and 5 are also supported but you ' +\n",
       "              'have to enable WebSockets in about:config.');\n",
       "    };\n",
       "}\n",
       "\n",
       "mpl.figure = function(figure_id, websocket, ondownload, parent_element) {\n",
       "    this.id = figure_id;\n",
       "\n",
       "    this.ws = websocket;\n",
       "\n",
       "    this.supports_binary = (this.ws.binaryType != undefined);\n",
       "\n",
       "    if (!this.supports_binary) {\n",
       "        var warnings = document.getElementById(\"mpl-warnings\");\n",
       "        if (warnings) {\n",
       "            warnings.style.display = 'block';\n",
       "            warnings.textContent = (\n",
       "                \"This browser does not support binary websocket messages. \" +\n",
       "                    \"Performance may be slow.\");\n",
       "        }\n",
       "    }\n",
       "\n",
       "    this.imageObj = new Image();\n",
       "\n",
       "    this.context = undefined;\n",
       "    this.message = undefined;\n",
       "    this.canvas = undefined;\n",
       "    this.rubberband_canvas = undefined;\n",
       "    this.rubberband_context = undefined;\n",
       "    this.format_dropdown = undefined;\n",
       "\n",
       "    this.image_mode = 'full';\n",
       "\n",
       "    this.root = $('<div/>');\n",
       "    this._root_extra_style(this.root)\n",
       "    this.root.attr('style', 'display: inline-block');\n",
       "\n",
       "    $(parent_element).append(this.root);\n",
       "\n",
       "    this._init_header(this);\n",
       "    this._init_canvas(this);\n",
       "    this._init_toolbar(this);\n",
       "\n",
       "    var fig = this;\n",
       "\n",
       "    this.waiting = false;\n",
       "\n",
       "    this.ws.onopen =  function () {\n",
       "            fig.send_message(\"supports_binary\", {value: fig.supports_binary});\n",
       "            fig.send_message(\"send_image_mode\", {});\n",
       "            if (mpl.ratio != 1) {\n",
       "                fig.send_message(\"set_dpi_ratio\", {'dpi_ratio': mpl.ratio});\n",
       "            }\n",
       "            fig.send_message(\"refresh\", {});\n",
       "        }\n",
       "\n",
       "    this.imageObj.onload = function() {\n",
       "            if (fig.image_mode == 'full') {\n",
       "                // Full images could contain transparency (where diff images\n",
       "                // almost always do), so we need to clear the canvas so that\n",
       "                // there is no ghosting.\n",
       "                fig.context.clearRect(0, 0, fig.canvas.width, fig.canvas.height);\n",
       "            }\n",
       "            fig.context.drawImage(fig.imageObj, 0, 0);\n",
       "        };\n",
       "\n",
       "    this.imageObj.onunload = function() {\n",
       "        this.ws.close();\n",
       "    }\n",
       "\n",
       "    this.ws.onmessage = this._make_on_message_function(this);\n",
       "\n",
       "    this.ondownload = ondownload;\n",
       "}\n",
       "\n",
       "mpl.figure.prototype._init_header = function() {\n",
       "    var titlebar = $(\n",
       "        '<div class=\"ui-dialog-titlebar ui-widget-header ui-corner-all ' +\n",
       "        'ui-helper-clearfix\"/>');\n",
       "    var titletext = $(\n",
       "        '<div class=\"ui-dialog-title\" style=\"width: 100%; ' +\n",
       "        'text-align: center; padding: 3px;\"/>');\n",
       "    titlebar.append(titletext)\n",
       "    this.root.append(titlebar);\n",
       "    this.header = titletext[0];\n",
       "}\n",
       "\n",
       "\n",
       "\n",
       "mpl.figure.prototype._canvas_extra_style = function(canvas_div) {\n",
       "\n",
       "}\n",
       "\n",
       "\n",
       "mpl.figure.prototype._root_extra_style = function(canvas_div) {\n",
       "\n",
       "}\n",
       "\n",
       "mpl.figure.prototype._init_canvas = function() {\n",
       "    var fig = this;\n",
       "\n",
       "    var canvas_div = $('<div/>');\n",
       "\n",
       "    canvas_div.attr('style', 'position: relative; clear: both; outline: 0');\n",
       "\n",
       "    function canvas_keyboard_event(event) {\n",
       "        return fig.key_event(event, event['data']);\n",
       "    }\n",
       "\n",
       "    canvas_div.keydown('key_press', canvas_keyboard_event);\n",
       "    canvas_div.keyup('key_release', canvas_keyboard_event);\n",
       "    this.canvas_div = canvas_div\n",
       "    this._canvas_extra_style(canvas_div)\n",
       "    this.root.append(canvas_div);\n",
       "\n",
       "    var canvas = $('<canvas/>');\n",
       "    canvas.addClass('mpl-canvas');\n",
       "    canvas.attr('style', \"left: 0; top: 0; z-index: 0; outline: 0\")\n",
       "\n",
       "    this.canvas = canvas[0];\n",
       "    this.context = canvas[0].getContext(\"2d\");\n",
       "\n",
       "    var backingStore = this.context.backingStorePixelRatio ||\n",
       "\tthis.context.webkitBackingStorePixelRatio ||\n",
       "\tthis.context.mozBackingStorePixelRatio ||\n",
       "\tthis.context.msBackingStorePixelRatio ||\n",
       "\tthis.context.oBackingStorePixelRatio ||\n",
       "\tthis.context.backingStorePixelRatio || 1;\n",
       "\n",
       "    mpl.ratio = (window.devicePixelRatio || 1) / backingStore;\n",
       "\n",
       "    var rubberband = $('<canvas/>');\n",
       "    rubberband.attr('style', \"position: absolute; left: 0; top: 0; z-index: 1;\")\n",
       "\n",
       "    var pass_mouse_events = true;\n",
       "\n",
       "    canvas_div.resizable({\n",
       "        start: function(event, ui) {\n",
       "            pass_mouse_events = false;\n",
       "        },\n",
       "        resize: function(event, ui) {\n",
       "            fig.request_resize(ui.size.width, ui.size.height);\n",
       "        },\n",
       "        stop: function(event, ui) {\n",
       "            pass_mouse_events = true;\n",
       "            fig.request_resize(ui.size.width, ui.size.height);\n",
       "        },\n",
       "    });\n",
       "\n",
       "    function mouse_event_fn(event) {\n",
       "        if (pass_mouse_events)\n",
       "            return fig.mouse_event(event, event['data']);\n",
       "    }\n",
       "\n",
       "    rubberband.mousedown('button_press', mouse_event_fn);\n",
       "    rubberband.mouseup('button_release', mouse_event_fn);\n",
       "    // Throttle sequential mouse events to 1 every 20ms.\n",
       "    rubberband.mousemove('motion_notify', mouse_event_fn);\n",
       "\n",
       "    rubberband.mouseenter('figure_enter', mouse_event_fn);\n",
       "    rubberband.mouseleave('figure_leave', mouse_event_fn);\n",
       "\n",
       "    canvas_div.on(\"wheel\", function (event) {\n",
       "        event = event.originalEvent;\n",
       "        event['data'] = 'scroll'\n",
       "        if (event.deltaY < 0) {\n",
       "            event.step = 1;\n",
       "        } else {\n",
       "            event.step = -1;\n",
       "        }\n",
       "        mouse_event_fn(event);\n",
       "    });\n",
       "\n",
       "    canvas_div.append(canvas);\n",
       "    canvas_div.append(rubberband);\n",
       "\n",
       "    this.rubberband = rubberband;\n",
       "    this.rubberband_canvas = rubberband[0];\n",
       "    this.rubberband_context = rubberband[0].getContext(\"2d\");\n",
       "    this.rubberband_context.strokeStyle = \"#000000\";\n",
       "\n",
       "    this._resize_canvas = function(width, height) {\n",
       "        // Keep the size of the canvas, canvas container, and rubber band\n",
       "        // canvas in synch.\n",
       "        canvas_div.css('width', width)\n",
       "        canvas_div.css('height', height)\n",
       "\n",
       "        canvas.attr('width', width * mpl.ratio);\n",
       "        canvas.attr('height', height * mpl.ratio);\n",
       "        canvas.attr('style', 'width: ' + width + 'px; height: ' + height + 'px;');\n",
       "\n",
       "        rubberband.attr('width', width);\n",
       "        rubberband.attr('height', height);\n",
       "    }\n",
       "\n",
       "    // Set the figure to an initial 600x600px, this will subsequently be updated\n",
       "    // upon first draw.\n",
       "    this._resize_canvas(600, 600);\n",
       "\n",
       "    // Disable right mouse context menu.\n",
       "    $(this.rubberband_canvas).bind(\"contextmenu\",function(e){\n",
       "        return false;\n",
       "    });\n",
       "\n",
       "    function set_focus () {\n",
       "        canvas.focus();\n",
       "        canvas_div.focus();\n",
       "    }\n",
       "\n",
       "    window.setTimeout(set_focus, 100);\n",
       "}\n",
       "\n",
       "mpl.figure.prototype._init_toolbar = function() {\n",
       "    var fig = this;\n",
       "\n",
       "    var nav_element = $('<div/>')\n",
       "    nav_element.attr('style', 'width: 100%');\n",
       "    this.root.append(nav_element);\n",
       "\n",
       "    // Define a callback function for later on.\n",
       "    function toolbar_event(event) {\n",
       "        return fig.toolbar_button_onclick(event['data']);\n",
       "    }\n",
       "    function toolbar_mouse_event(event) {\n",
       "        return fig.toolbar_button_onmouseover(event['data']);\n",
       "    }\n",
       "\n",
       "    for(var toolbar_ind in mpl.toolbar_items) {\n",
       "        var name = mpl.toolbar_items[toolbar_ind][0];\n",
       "        var tooltip = mpl.toolbar_items[toolbar_ind][1];\n",
       "        var image = mpl.toolbar_items[toolbar_ind][2];\n",
       "        var method_name = mpl.toolbar_items[toolbar_ind][3];\n",
       "\n",
       "        if (!name) {\n",
       "            // put a spacer in here.\n",
       "            continue;\n",
       "        }\n",
       "        var button = $('<button/>');\n",
       "        button.addClass('ui-button ui-widget ui-state-default ui-corner-all ' +\n",
       "                        'ui-button-icon-only');\n",
       "        button.attr('role', 'button');\n",
       "        button.attr('aria-disabled', 'false');\n",
       "        button.click(method_name, toolbar_event);\n",
       "        button.mouseover(tooltip, toolbar_mouse_event);\n",
       "\n",
       "        var icon_img = $('<span/>');\n",
       "        icon_img.addClass('ui-button-icon-primary ui-icon');\n",
       "        icon_img.addClass(image);\n",
       "        icon_img.addClass('ui-corner-all');\n",
       "\n",
       "        var tooltip_span = $('<span/>');\n",
       "        tooltip_span.addClass('ui-button-text');\n",
       "        tooltip_span.html(tooltip);\n",
       "\n",
       "        button.append(icon_img);\n",
       "        button.append(tooltip_span);\n",
       "\n",
       "        nav_element.append(button);\n",
       "    }\n",
       "\n",
       "    var fmt_picker_span = $('<span/>');\n",
       "\n",
       "    var fmt_picker = $('<select/>');\n",
       "    fmt_picker.addClass('mpl-toolbar-option ui-widget ui-widget-content');\n",
       "    fmt_picker_span.append(fmt_picker);\n",
       "    nav_element.append(fmt_picker_span);\n",
       "    this.format_dropdown = fmt_picker[0];\n",
       "\n",
       "    for (var ind in mpl.extensions) {\n",
       "        var fmt = mpl.extensions[ind];\n",
       "        var option = $(\n",
       "            '<option/>', {selected: fmt === mpl.default_extension}).html(fmt);\n",
       "        fmt_picker.append(option)\n",
       "    }\n",
       "\n",
       "    // Add hover states to the ui-buttons\n",
       "    $( \".ui-button\" ).hover(\n",
       "        function() { $(this).addClass(\"ui-state-hover\");},\n",
       "        function() { $(this).removeClass(\"ui-state-hover\");}\n",
       "    );\n",
       "\n",
       "    var status_bar = $('<span class=\"mpl-message\"/>');\n",
       "    nav_element.append(status_bar);\n",
       "    this.message = status_bar[0];\n",
       "}\n",
       "\n",
       "mpl.figure.prototype.request_resize = function(x_pixels, y_pixels) {\n",
       "    // Request matplotlib to resize the figure. Matplotlib will then trigger a resize in the client,\n",
       "    // which will in turn request a refresh of the image.\n",
       "    this.send_message('resize', {'width': x_pixels, 'height': y_pixels});\n",
       "}\n",
       "\n",
       "mpl.figure.prototype.send_message = function(type, properties) {\n",
       "    properties['type'] = type;\n",
       "    properties['figure_id'] = this.id;\n",
       "    this.ws.send(JSON.stringify(properties));\n",
       "}\n",
       "\n",
       "mpl.figure.prototype.send_draw_message = function() {\n",
       "    if (!this.waiting) {\n",
       "        this.waiting = true;\n",
       "        this.ws.send(JSON.stringify({type: \"draw\", figure_id: this.id}));\n",
       "    }\n",
       "}\n",
       "\n",
       "\n",
       "mpl.figure.prototype.handle_save = function(fig, msg) {\n",
       "    var format_dropdown = fig.format_dropdown;\n",
       "    var format = format_dropdown.options[format_dropdown.selectedIndex].value;\n",
       "    fig.ondownload(fig, format);\n",
       "}\n",
       "\n",
       "\n",
       "mpl.figure.prototype.handle_resize = function(fig, msg) {\n",
       "    var size = msg['size'];\n",
       "    if (size[0] != fig.canvas.width || size[1] != fig.canvas.height) {\n",
       "        fig._resize_canvas(size[0], size[1]);\n",
       "        fig.send_message(\"refresh\", {});\n",
       "    };\n",
       "}\n",
       "\n",
       "mpl.figure.prototype.handle_rubberband = function(fig, msg) {\n",
       "    var x0 = msg['x0'] / mpl.ratio;\n",
       "    var y0 = (fig.canvas.height - msg['y0']) / mpl.ratio;\n",
       "    var x1 = msg['x1'] / mpl.ratio;\n",
       "    var y1 = (fig.canvas.height - msg['y1']) / mpl.ratio;\n",
       "    x0 = Math.floor(x0) + 0.5;\n",
       "    y0 = Math.floor(y0) + 0.5;\n",
       "    x1 = Math.floor(x1) + 0.5;\n",
       "    y1 = Math.floor(y1) + 0.5;\n",
       "    var min_x = Math.min(x0, x1);\n",
       "    var min_y = Math.min(y0, y1);\n",
       "    var width = Math.abs(x1 - x0);\n",
       "    var height = Math.abs(y1 - y0);\n",
       "\n",
       "    fig.rubberband_context.clearRect(\n",
       "        0, 0, fig.canvas.width, fig.canvas.height);\n",
       "\n",
       "    fig.rubberband_context.strokeRect(min_x, min_y, width, height);\n",
       "}\n",
       "\n",
       "mpl.figure.prototype.handle_figure_label = function(fig, msg) {\n",
       "    // Updates the figure title.\n",
       "    fig.header.textContent = msg['label'];\n",
       "}\n",
       "\n",
       "mpl.figure.prototype.handle_cursor = function(fig, msg) {\n",
       "    var cursor = msg['cursor'];\n",
       "    switch(cursor)\n",
       "    {\n",
       "    case 0:\n",
       "        cursor = 'pointer';\n",
       "        break;\n",
       "    case 1:\n",
       "        cursor = 'default';\n",
       "        break;\n",
       "    case 2:\n",
       "        cursor = 'crosshair';\n",
       "        break;\n",
       "    case 3:\n",
       "        cursor = 'move';\n",
       "        break;\n",
       "    }\n",
       "    fig.rubberband_canvas.style.cursor = cursor;\n",
       "}\n",
       "\n",
       "mpl.figure.prototype.handle_message = function(fig, msg) {\n",
       "    fig.message.textContent = msg['message'];\n",
       "}\n",
       "\n",
       "mpl.figure.prototype.handle_draw = function(fig, msg) {\n",
       "    // Request the server to send over a new figure.\n",
       "    fig.send_draw_message();\n",
       "}\n",
       "\n",
       "mpl.figure.prototype.handle_image_mode = function(fig, msg) {\n",
       "    fig.image_mode = msg['mode'];\n",
       "}\n",
       "\n",
       "mpl.figure.prototype.updated_canvas_event = function() {\n",
       "    // Called whenever the canvas gets updated.\n",
       "    this.send_message(\"ack\", {});\n",
       "}\n",
       "\n",
       "// A function to construct a web socket function for onmessage handling.\n",
       "// Called in the figure constructor.\n",
       "mpl.figure.prototype._make_on_message_function = function(fig) {\n",
       "    return function socket_on_message(evt) {\n",
       "        if (evt.data instanceof Blob) {\n",
       "            /* FIXME: We get \"Resource interpreted as Image but\n",
       "             * transferred with MIME type text/plain:\" errors on\n",
       "             * Chrome.  But how to set the MIME type?  It doesn't seem\n",
       "             * to be part of the websocket stream */\n",
       "            evt.data.type = \"image/png\";\n",
       "\n",
       "            /* Free the memory for the previous frames */\n",
       "            if (fig.imageObj.src) {\n",
       "                (window.URL || window.webkitURL).revokeObjectURL(\n",
       "                    fig.imageObj.src);\n",
       "            }\n",
       "\n",
       "            fig.imageObj.src = (window.URL || window.webkitURL).createObjectURL(\n",
       "                evt.data);\n",
       "            fig.updated_canvas_event();\n",
       "            fig.waiting = false;\n",
       "            return;\n",
       "        }\n",
       "        else if (typeof evt.data === 'string' && evt.data.slice(0, 21) == \"data:image/png;base64\") {\n",
       "            fig.imageObj.src = evt.data;\n",
       "            fig.updated_canvas_event();\n",
       "            fig.waiting = false;\n",
       "            return;\n",
       "        }\n",
       "\n",
       "        var msg = JSON.parse(evt.data);\n",
       "        var msg_type = msg['type'];\n",
       "\n",
       "        // Call the  \"handle_{type}\" callback, which takes\n",
       "        // the figure and JSON message as its only arguments.\n",
       "        try {\n",
       "            var callback = fig[\"handle_\" + msg_type];\n",
       "        } catch (e) {\n",
       "            console.log(\"No handler for the '\" + msg_type + \"' message type: \", msg);\n",
       "            return;\n",
       "        }\n",
       "\n",
       "        if (callback) {\n",
       "            try {\n",
       "                // console.log(\"Handling '\" + msg_type + \"' message: \", msg);\n",
       "                callback(fig, msg);\n",
       "            } catch (e) {\n",
       "                console.log(\"Exception inside the 'handler_\" + msg_type + \"' callback:\", e, e.stack, msg);\n",
       "            }\n",
       "        }\n",
       "    };\n",
       "}\n",
       "\n",
       "// from http://stackoverflow.com/questions/1114465/getting-mouse-location-in-canvas\n",
       "mpl.findpos = function(e) {\n",
       "    //this section is from http://www.quirksmode.org/js/events_properties.html\n",
       "    var targ;\n",
       "    if (!e)\n",
       "        e = window.event;\n",
       "    if (e.target)\n",
       "        targ = e.target;\n",
       "    else if (e.srcElement)\n",
       "        targ = e.srcElement;\n",
       "    if (targ.nodeType == 3) // defeat Safari bug\n",
       "        targ = targ.parentNode;\n",
       "\n",
       "    // jQuery normalizes the pageX and pageY\n",
       "    // pageX,Y are the mouse positions relative to the document\n",
       "    // offset() returns the position of the element relative to the document\n",
       "    var x = e.pageX - $(targ).offset().left;\n",
       "    var y = e.pageY - $(targ).offset().top;\n",
       "\n",
       "    return {\"x\": x, \"y\": y};\n",
       "};\n",
       "\n",
       "/*\n",
       " * return a copy of an object with only non-object keys\n",
       " * we need this to avoid circular references\n",
       " * http://stackoverflow.com/a/24161582/3208463\n",
       " */\n",
       "function simpleKeys (original) {\n",
       "  return Object.keys(original).reduce(function (obj, key) {\n",
       "    if (typeof original[key] !== 'object')\n",
       "        obj[key] = original[key]\n",
       "    return obj;\n",
       "  }, {});\n",
       "}\n",
       "\n",
       "mpl.figure.prototype.mouse_event = function(event, name) {\n",
       "    var canvas_pos = mpl.findpos(event)\n",
       "\n",
       "    if (name === 'button_press')\n",
       "    {\n",
       "        this.canvas.focus();\n",
       "        this.canvas_div.focus();\n",
       "    }\n",
       "\n",
       "    var x = canvas_pos.x * mpl.ratio;\n",
       "    var y = canvas_pos.y * mpl.ratio;\n",
       "\n",
       "    this.send_message(name, {x: x, y: y, button: event.button,\n",
       "                             step: event.step,\n",
       "                             guiEvent: simpleKeys(event)});\n",
       "\n",
       "    /* This prevents the web browser from automatically changing to\n",
       "     * the text insertion cursor when the button is pressed.  We want\n",
       "     * to control all of the cursor setting manually through the\n",
       "     * 'cursor' event from matplotlib */\n",
       "    event.preventDefault();\n",
       "    return false;\n",
       "}\n",
       "\n",
       "mpl.figure.prototype._key_event_extra = function(event, name) {\n",
       "    // Handle any extra behaviour associated with a key event\n",
       "}\n",
       "\n",
       "mpl.figure.prototype.key_event = function(event, name) {\n",
       "\n",
       "    // Prevent repeat events\n",
       "    if (name == 'key_press')\n",
       "    {\n",
       "        if (event.which === this._key)\n",
       "            return;\n",
       "        else\n",
       "            this._key = event.which;\n",
       "    }\n",
       "    if (name == 'key_release')\n",
       "        this._key = null;\n",
       "\n",
       "    var value = '';\n",
       "    if (event.ctrlKey && event.which != 17)\n",
       "        value += \"ctrl+\";\n",
       "    if (event.altKey && event.which != 18)\n",
       "        value += \"alt+\";\n",
       "    if (event.shiftKey && event.which != 16)\n",
       "        value += \"shift+\";\n",
       "\n",
       "    value += 'k';\n",
       "    value += event.which.toString();\n",
       "\n",
       "    this._key_event_extra(event, name);\n",
       "\n",
       "    this.send_message(name, {key: value,\n",
       "                             guiEvent: simpleKeys(event)});\n",
       "    return false;\n",
       "}\n",
       "\n",
       "mpl.figure.prototype.toolbar_button_onclick = function(name) {\n",
       "    if (name == 'download') {\n",
       "        this.handle_save(this, null);\n",
       "    } else {\n",
       "        this.send_message(\"toolbar_button\", {name: name});\n",
       "    }\n",
       "};\n",
       "\n",
       "mpl.figure.prototype.toolbar_button_onmouseover = function(tooltip) {\n",
       "    this.message.textContent = tooltip;\n",
       "};\n",
       "mpl.toolbar_items = [[\"Home\", \"Reset original view\", \"fa fa-home icon-home\", \"home\"], [\"Back\", \"Back to  previous view\", \"fa fa-arrow-left icon-arrow-left\", \"back\"], [\"Forward\", \"Forward to next view\", \"fa fa-arrow-right icon-arrow-right\", \"forward\"], [\"\", \"\", \"\", \"\"], [\"Pan\", \"Pan axes with left mouse, zoom with right\", \"fa fa-arrows icon-move\", \"pan\"], [\"Zoom\", \"Zoom to rectangle\", \"fa fa-square-o icon-check-empty\", \"zoom\"], [\"\", \"\", \"\", \"\"], [\"Download\", \"Download plot\", \"fa fa-floppy-o icon-save\", \"download\"]];\n",
       "\n",
       "mpl.extensions = [\"eps\", \"pdf\", \"png\", \"ps\", \"raw\", \"svg\"];\n",
       "\n",
       "mpl.default_extension = \"png\";var comm_websocket_adapter = function(comm) {\n",
       "    // Create a \"websocket\"-like object which calls the given IPython comm\n",
       "    // object with the appropriate methods. Currently this is a non binary\n",
       "    // socket, so there is still some room for performance tuning.\n",
       "    var ws = {};\n",
       "\n",
       "    ws.close = function() {\n",
       "        comm.close()\n",
       "    };\n",
       "    ws.send = function(m) {\n",
       "        //console.log('sending', m);\n",
       "        comm.send(m);\n",
       "    };\n",
       "    // Register the callback with on_msg.\n",
       "    comm.on_msg(function(msg) {\n",
       "        //console.log('receiving', msg['content']['data'], msg);\n",
       "        // Pass the mpl event to the overriden (by mpl) onmessage function.\n",
       "        ws.onmessage(msg['content']['data'])\n",
       "    });\n",
       "    return ws;\n",
       "}\n",
       "\n",
       "mpl.mpl_figure_comm = function(comm, msg) {\n",
       "    // This is the function which gets called when the mpl process\n",
       "    // starts-up an IPython Comm through the \"matplotlib\" channel.\n",
       "\n",
       "    var id = msg.content.data.id;\n",
       "    // Get hold of the div created by the display call when the Comm\n",
       "    // socket was opened in Python.\n",
       "    var element = $(\"#\" + id);\n",
       "    var ws_proxy = comm_websocket_adapter(comm)\n",
       "\n",
       "    function ondownload(figure, format) {\n",
       "        window.open(figure.imageObj.src);\n",
       "    }\n",
       "\n",
       "    var fig = new mpl.figure(id, ws_proxy,\n",
       "                           ondownload,\n",
       "                           element.get(0));\n",
       "\n",
       "    // Call onopen now - mpl needs it, as it is assuming we've passed it a real\n",
       "    // web socket which is closed, not our websocket->open comm proxy.\n",
       "    ws_proxy.onopen();\n",
       "\n",
       "    fig.parent_element = element.get(0);\n",
       "    fig.cell_info = mpl.find_output_cell(\"<div id='\" + id + \"'></div>\");\n",
       "    if (!fig.cell_info) {\n",
       "        console.error(\"Failed to find cell for figure\", id, fig);\n",
       "        return;\n",
       "    }\n",
       "\n",
       "    var output_index = fig.cell_info[2]\n",
       "    var cell = fig.cell_info[0];\n",
       "\n",
       "};\n",
       "\n",
       "mpl.figure.prototype.handle_close = function(fig, msg) {\n",
       "    var width = fig.canvas.width/mpl.ratio\n",
       "    fig.root.unbind('remove')\n",
       "\n",
       "    // Update the output cell to use the data from the current canvas.\n",
       "    fig.push_to_output();\n",
       "    var dataURL = fig.canvas.toDataURL();\n",
       "    // Re-enable the keyboard manager in IPython - without this line, in FF,\n",
       "    // the notebook keyboard shortcuts fail.\n",
       "    IPython.keyboard_manager.enable()\n",
       "    $(fig.parent_element).html('<img src=\"' + dataURL + '\" width=\"' + width + '\">');\n",
       "    fig.close_ws(fig, msg);\n",
       "}\n",
       "\n",
       "mpl.figure.prototype.close_ws = function(fig, msg){\n",
       "    fig.send_message('closing', msg);\n",
       "    // fig.ws.close()\n",
       "}\n",
       "\n",
       "mpl.figure.prototype.push_to_output = function(remove_interactive) {\n",
       "    // Turn the data on the canvas into data in the output cell.\n",
       "    var width = this.canvas.width/mpl.ratio\n",
       "    var dataURL = this.canvas.toDataURL();\n",
       "    this.cell_info[1]['text/html'] = '<img src=\"' + dataURL + '\" width=\"' + width + '\">';\n",
       "}\n",
       "\n",
       "mpl.figure.prototype.updated_canvas_event = function() {\n",
       "    // Tell IPython that the notebook contents must change.\n",
       "    IPython.notebook.set_dirty(true);\n",
       "    this.send_message(\"ack\", {});\n",
       "    var fig = this;\n",
       "    // Wait a second, then push the new image to the DOM so\n",
       "    // that it is saved nicely (might be nice to debounce this).\n",
       "    setTimeout(function () { fig.push_to_output() }, 1000);\n",
       "}\n",
       "\n",
       "mpl.figure.prototype._init_toolbar = function() {\n",
       "    var fig = this;\n",
       "\n",
       "    var nav_element = $('<div/>')\n",
       "    nav_element.attr('style', 'width: 100%');\n",
       "    this.root.append(nav_element);\n",
       "\n",
       "    // Define a callback function for later on.\n",
       "    function toolbar_event(event) {\n",
       "        return fig.toolbar_button_onclick(event['data']);\n",
       "    }\n",
       "    function toolbar_mouse_event(event) {\n",
       "        return fig.toolbar_button_onmouseover(event['data']);\n",
       "    }\n",
       "\n",
       "    for(var toolbar_ind in mpl.toolbar_items){\n",
       "        var name = mpl.toolbar_items[toolbar_ind][0];\n",
       "        var tooltip = mpl.toolbar_items[toolbar_ind][1];\n",
       "        var image = mpl.toolbar_items[toolbar_ind][2];\n",
       "        var method_name = mpl.toolbar_items[toolbar_ind][3];\n",
       "\n",
       "        if (!name) { continue; };\n",
       "\n",
       "        var button = $('<button class=\"btn btn-default\" href=\"#\" title=\"' + name + '\"><i class=\"fa ' + image + ' fa-lg\"></i></button>');\n",
       "        button.click(method_name, toolbar_event);\n",
       "        button.mouseover(tooltip, toolbar_mouse_event);\n",
       "        nav_element.append(button);\n",
       "    }\n",
       "\n",
       "    // Add the status bar.\n",
       "    var status_bar = $('<span class=\"mpl-message\" style=\"text-align:right; float: right;\"/>');\n",
       "    nav_element.append(status_bar);\n",
       "    this.message = status_bar[0];\n",
       "\n",
       "    // Add the close button to the window.\n",
       "    var buttongrp = $('<div class=\"btn-group inline pull-right\"></div>');\n",
       "    var button = $('<button class=\"btn btn-mini btn-primary\" href=\"#\" title=\"Stop Interaction\"><i class=\"fa fa-power-off icon-remove icon-large\"></i></button>');\n",
       "    button.click(function (evt) { fig.handle_close(fig, {}); } );\n",
       "    button.mouseover('Stop Interaction', toolbar_mouse_event);\n",
       "    buttongrp.append(button);\n",
       "    var titlebar = this.root.find($('.ui-dialog-titlebar'));\n",
       "    titlebar.prepend(buttongrp);\n",
       "}\n",
       "\n",
       "mpl.figure.prototype._root_extra_style = function(el){\n",
       "    var fig = this\n",
       "    el.on(\"remove\", function(){\n",
       "\tfig.close_ws(fig, {});\n",
       "    });\n",
       "}\n",
       "\n",
       "mpl.figure.prototype._canvas_extra_style = function(el){\n",
       "    // this is important to make the div 'focusable\n",
       "    el.attr('tabindex', 0)\n",
       "    // reach out to IPython and tell the keyboard manager to turn it's self\n",
       "    // off when our div gets focus\n",
       "\n",
       "    // location in version 3\n",
       "    if (IPython.notebook.keyboard_manager) {\n",
       "        IPython.notebook.keyboard_manager.register_events(el);\n",
       "    }\n",
       "    else {\n",
       "        // location in version 2\n",
       "        IPython.keyboard_manager.register_events(el);\n",
       "    }\n",
       "\n",
       "}\n",
       "\n",
       "mpl.figure.prototype._key_event_extra = function(event, name) {\n",
       "    var manager = IPython.notebook.keyboard_manager;\n",
       "    if (!manager)\n",
       "        manager = IPython.keyboard_manager;\n",
       "\n",
       "    // Check for shift+enter\n",
       "    if (event.shiftKey && event.which == 13) {\n",
       "        this.canvas_div.blur();\n",
       "        // select the cell after this one\n",
       "        var index = IPython.notebook.find_cell_index(this.cell_info[0]);\n",
       "        IPython.notebook.select(index + 1);\n",
       "    }\n",
       "}\n",
       "\n",
       "mpl.figure.prototype.handle_save = function(fig, msg) {\n",
       "    fig.ondownload(fig, null);\n",
       "}\n",
       "\n",
       "\n",
       "mpl.find_output_cell = function(html_output) {\n",
       "    // Return the cell and output element which can be found *uniquely* in the notebook.\n",
       "    // Note - this is a bit hacky, but it is done because the \"notebook_saving.Notebook\"\n",
       "    // IPython event is triggered only after the cells have been serialised, which for\n",
       "    // our purposes (turning an active figure into a static one), is too late.\n",
       "    var cells = IPython.notebook.get_cells();\n",
       "    var ncells = cells.length;\n",
       "    for (var i=0; i<ncells; i++) {\n",
       "        var cell = cells[i];\n",
       "        if (cell.cell_type === 'code'){\n",
       "            for (var j=0; j<cell.output_area.outputs.length; j++) {\n",
       "                var data = cell.output_area.outputs[j];\n",
       "                if (data.data) {\n",
       "                    // IPython >= 3 moved mimebundle to data attribute of output\n",
       "                    data = data.data;\n",
       "                }\n",
       "                if (data['text/html'] == html_output) {\n",
       "                    return [cell, data, j];\n",
       "                }\n",
       "            }\n",
       "        }\n",
       "    }\n",
       "}\n",
       "\n",
       "// Register the function which deals with the matplotlib target/channel.\n",
       "// The kernel may be null if the page has been refreshed.\n",
       "if (IPython.notebook.kernel != null) {\n",
       "    IPython.notebook.kernel.comm_manager.register_target('matplotlib', mpl.mpl_figure_comm);\n",
       "}\n"
      ],
      "text/plain": [
       "<IPython.core.display.Javascript object>"
      ]
     },
     "metadata": {},
     "output_type": "display_data"
    },
    {
     "data": {
      "text/html": [
       "<img src=\"data:image/png;base64,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\" width=\"500\">"
      ],
      "text/plain": [
       "<IPython.core.display.HTML object>"
      ]
     },
     "metadata": {},
     "output_type": "display_data"
    }
   ],
   "source": [
    "fig=plt.figure()"
   ]
  },
  {
   "cell_type": "code",
   "execution_count": 85,
   "metadata": {
    "collapsed": true
   },
   "outputs": [],
   "source": [
    "quad_drawer=QuadraticDrawer(quad,fig,.15)\n",
    "limite= 6\n",
    "#quad_drawer.ax.set_ylim(-1*limite,limite)\n",
    "#quad_drawer.ax.set_xlim(-1*limite,limite)\n",
    "quad_drawer.ax.set_ylim(-3.5,3.5)\n",
    "quad_drawer.ax.set_xlim(-6.5,0.5)\n",
    "fig.set_size_inches(5,5)\n",
    "plt.axis('on')\n",
    "plt.tick_params(axis='both', which='both', bottom='off', top='off', labelbottom='off', right='off', left='off', labelleft='off')"
   ]
  },
  {
   "cell_type": "code",
   "execution_count": 86,
   "metadata": {
    "collapsed": true
   },
   "outputs": [],
   "source": [
    "quad_drawer_sillas=QuadraticDrawer(quad_sillas,fig,.35, 'b')"
   ]
  },
  {
   "cell_type": "code",
   "execution_count": 70,
   "metadata": {},
   "outputs": [],
   "source": [
    "quad_sillas.phase = quad.phase"
   ]
  },
  {
   "cell_type": "code",
   "execution_count": 71,
   "metadata": {
    "collapsed": true
   },
   "outputs": [],
   "source": [
    "quad_sillas.plotpoints = [z1+complex(0,0.01),z1+complex(0,-0.01)]"
   ]
  },
  {
   "cell_type": "code",
   "execution_count": 87,
   "metadata": {},
   "outputs": [
    {
     "name": "stdout",
     "output_type": "stream",
     "text": [
      "\n"
     ]
    }
   ],
   "source": [
    "quad_drawer_sillas.draw_trajectories()"
   ]
  },
  {
   "cell_type": "code",
   "execution_count": 88,
   "metadata": {},
   "outputs": [
    {
     "name": "stdout",
     "output_type": "stream",
     "text": [
      "\n"
     ]
    }
   ],
   "source": [
    "quad_drawer.draw_trajectories()"
   ]
  },
  {
   "cell_type": "code",
   "execution_count": null,
   "metadata": {
    "collapsed": true,
    "scrolled": true
   },
   "outputs": [],
   "source": [
    "mm=draw_saddle(quad,fig,z4,z3)"
   ]
  },
  {
   "cell_type": "code",
   "execution_count": null,
   "metadata": {
    "collapsed": true
   },
   "outputs": [],
   "source": [
    "mm[0].plotpoints"
   ]
  },
  {
   "cell_type": "code",
   "execution_count": null,
   "metadata": {
    "collapsed": true
   },
   "outputs": [],
   "source": [
    "quad_drawer.trajectories.set_color([(.5,.5,.5)])"
   ]
  },
  {
   "cell_type": "code",
   "execution_count": null,
   "metadata": {
    "collapsed": true
   },
   "outputs": [],
   "source": [
    "quad_drawer_sillas.trajectories.set_color([(1,0,0)])"
   ]
  },
  {
   "cell_type": "code",
   "execution_count": 91,
   "metadata": {
    "collapsed": true
   },
   "outputs": [],
   "source": [
    "#quad.zeros=[complex(0,0)]\n",
    "z1=complex(-1,0)\n",
    "z2=complex(1,-2)\n",
    "z3=complex(2,1.2)\n",
    "z4=complex(3.5,-2)\n",
    "w1 = complex(-2,-4)\n",
    "w2 = complex(-4,0)\n",
    "#quad.dblpoles = [complex(-3.3,2.3),complex(3.1,3),complex(-2.5,-0.5),complex(2,0)]\n",
    "quad.dblpoles = [complex(-3.3,2.3),complex(-2.5,-0.5)]\n",
    "sp = complex(10,0)\n",
    "quad.smplpoles = [sp]\n",
    "#quad.zeros = [z1,z3,z4]\n",
    "quad.zeros = [z1]\n",
    "quad.plotpoints = []\n",
    "for x in quad.zeros:\n",
    "    plt.plot([x.real],[x.imag],'bo',ms=3,)\n",
    "for x in quad.dblpoles:\n",
    "    plt.plot([x.real],[x.imag],'go',ms=3,)"
   ]
  },
  {
   "cell_type": "code",
   "execution_count": null,
   "metadata": {
    "collapsed": true
   },
   "outputs": [],
   "source": [
    "def draw_saddle(quad, fig, z1, z2, color='r'):\n",
    "    mid = mid_point_saddle(z1,z2,quad)\n",
    "    plt.plot([mid.real],[mid.imag],'ro',ms=3)\n",
    "    fase = fase_silla(z1,z2,quad)\n",
    "    quad_silla = QuadraticDifferential(quad)\n",
    "    quad_silla.phase = fase\n",
    "    quad_silla.plotpoints = [mid]\n",
    "    longitud_silla=abs(integrar(z1,z2,quad))/2.01\n",
    "    drawer = QuadraticDrawer(quad_silla,fig)\n",
    "    drawer.trajectories.set_color(color)\n",
    "    t= TrajectorySolver(quad_silla,mid, longitud_silla/100, longitud_silla*1.01, fase)\n",
    "    segmentos = t()\n",
    "    drawer.trajectories.set_segments([segmentos])\n",
    "    return [quad_silla, drawer]"
   ]
  },
  {
   "cell_type": "code",
   "execution_count": 53,
   "metadata": {
    "collapsed": true
   },
   "outputs": [],
   "source": [
    "def draw_traj(quad, fig, plot, phase, longitud, color='r'):\n",
    "    mid = plot\n",
    "    plt.plot([mid.real],[mid.imag],'ro',ms=3)\n",
    "    fase = phase\n",
    "    quad_silla = QuadraticDifferential(quad)\n",
    "    quad_silla.phase = fase\n",
    "    quad_silla.plotpoints = [mid]\n",
    "    longitud_silla=longitud\n",
    "    drawer = QuadraticDrawer(quad_silla,fig)\n",
    "    drawer.trajectories.set_color(color)\n",
    "    t= TrajectorySolver(quad_silla,mid, longitud_silla/100, longitud_silla*1.01, fase)\n",
    "    segmentos = t()\n",
    "    drawer.trajectories.set_segments([segmentos])\n",
    "    return [quad_silla, drawer]"
   ]
  },
  {
   "cell_type": "code",
   "execution_count": 89,
   "metadata": {},
   "outputs": [
    {
     "name": "stdout",
     "output_type": "stream",
     "text": [
      "(0.962472051551+0.271380820957j)\n",
      "0.387373787358\n",
      "0.387373990089\n",
      "."
     ]
    },
    {
     "data": {
      "text/plain": [
       "[<obj.QuadraticDifferential instance at 0x7fa45d5fc248>,\n",
       " <dqnotebook.QuadraticDrawer instance at 0x7fa45d5fc1b8>]"
      ]
     },
     "execution_count": 89,
     "metadata": {},
     "output_type": "execute_result"
    }
   ],
   "source": [
    "draw_traj(quad,fig, mid_point, fase_pasos, longitud_pasoss)"
   ]
  },
  {
   "cell_type": "code",
   "execution_count": null,
   "metadata": {
    "collapsed": true
   },
   "outputs": [],
   "source": [
    "#quad.zeros=[complex(0,0)]\n",
    "quad_sillas.dblpoles = [complex(-3.3,2.3),complex(3.1,3),complex(-2,-1.5),complex(2,0)]\n",
    "quad_sillas.zeros = [z1,z2 ,z3,z4]\n",
    "quad_sillas.plotpoints = [m1]\n",
    "quad_sillas.phase=fase1"
   ]
  },
  {
   "cell_type": "code",
   "execution_count": null,
   "metadata": {
    "collapsed": true
   },
   "outputs": [],
   "source": [
    "quad_drawer_sillas.draw_trajectories()"
   ]
  },
  {
   "cell_type": "code",
   "execution_count": 92,
   "metadata": {
    "collapsed": true
   },
   "outputs": [],
   "source": [
    "plt.savefig('franja_doblada5_silla.pgf')"
   ]
  },
  {
   "cell_type": "code",
   "execution_count": null,
   "metadata": {
    "collapsed": true
   },
   "outputs": [],
   "source": [
    "m1=mid_point_saddle(z1,z2,quad)\n",
    "fase1=fase_silla(z1,z2,quad)\n",
    "longitud_silla1=abs(integrar(z1,z2,quad))/2.01\n",
    "solver1 = TrajectorySolver(quad,m1,longitud_silla1/10,longitud_silla1*1.1,fase1)\n",
    "puntos1=solver1()\n",
    "for x in range(puntos1.shape[0]):\n",
    "    quad.add_plotpoint(complex(puntos1[x][0],puntos1[x][1]))"
   ]
  },
  {
   "cell_type": "code",
   "execution_count": 10,
   "metadata": {},
   "outputs": [],
   "source": [
    "long_pasos1 = integrar(z1,w1,quad)\n",
    "long_pasos2 = integrar(w1,w2,quad)\n",
    "long_pasos3 = integrar(w2,z1,quad)"
   ]
  },
  {
   "cell_type": "code",
   "execution_count": 14,
   "metadata": {},
   "outputs": [
    {
     "data": {
      "text/plain": [
       "(0.11206926695007043+0.09305044126843227j)"
      ]
     },
     "execution_count": 14,
     "metadata": {},
     "output_type": "execute_result"
    }
   ],
   "source": [
    "long_pasos1"
   ]
  },
  {
   "cell_type": "code",
   "execution_count": 15,
   "metadata": {},
   "outputs": [
    {
     "data": {
      "text/plain": [
       "(-0.27296523555946156-0.004191203483187776j)"
      ]
     },
     "execution_count": 15,
     "metadata": {},
     "output_type": "execute_result"
    }
   ],
   "source": [
    "long_pasos2"
   ]
  },
  {
   "cell_type": "code",
   "execution_count": 16,
   "metadata": {},
   "outputs": [
    {
     "data": {
      "text/plain": [
       "(0.3748105178056423-0.2023169579263492j)"
      ]
     },
     "execution_count": 16,
     "metadata": {},
     "output_type": "execute_result"
    }
   ],
   "source": [
    "long_pasos3"
   ]
  },
  {
   "cell_type": "code",
   "execution_count": 17,
   "metadata": {
    "collapsed": true
   },
   "outputs": [],
   "source": [
    "long_pasos=+long_pasos1-long_pasos2+long_pasos3"
   ]
  },
  {
   "cell_type": "code",
   "execution_count": 18,
   "metadata": {
    "collapsed": true
   },
   "outputs": [],
   "source": [
    "fase_pasos = long_pasos/abs(long_pasos)\n",
    "fase_pasos = fase_pasos**2\n",
    "fase_pasos = fase_pasos.conjugate()"
   ]
  },
  {
   "cell_type": "code",
   "execution_count": 19,
   "metadata": {
    "collapsed": true
   },
   "outputs": [],
   "source": [
    "lim = 20\n",
    "maxreps = 500000\n",
    "maxint = 2000\n",
    "t= np.linspace(0,.5,100) #intervalo temporal\n",
    "normav = 0.001\n",
    "normav = 0.0001\n",
    "ri=sqrt(1j)\n",
    "ric=sqrt(-1j)"
   ]
  },
  {
   "cell_type": "code",
   "execution_count": 20,
   "metadata": {
    "scrolled": false
   },
   "outputs": [
    {
     "name": "stdout",
     "output_type": "stream",
     "text": [
      "(0.962472051551+0.271380820957j)\n",
      "(1+0j)\n",
      "(0.962472051551+0.271380820957j)\n",
      "0.383539651009\n",
      "0.383545779219\n",
      "."
     ]
    }
   ],
   "source": [
    "mid_lenght=abs(long_pasos)/2\n",
    "start=z1+(w1-z1)*0.0005\n",
    "solver_pasos=TrajectorySolver(quad,start,mid_lenght,mid_lenght,fase_pasos)\n",
    "puntos_pasos=solver_pasos()\n",
    "mid_point=complex(puntos_pasos[-1][0],puntos_pasos[-1][1])"
   ]
  },
  {
   "cell_type": "code",
   "execution_count": null,
   "metadata": {
    "collapsed": true
   },
   "outputs": [],
   "source": [
    "mid_point"
   ]
  },
  {
   "cell_type": "code",
   "execution_count": 21,
   "metadata": {},
   "outputs": [
    {
     "data": {
      "text/plain": [
       "[<matplotlib.lines.Line2D at 0x7fa461ab62d0>]"
      ]
     },
     "execution_count": 21,
     "metadata": {},
     "output_type": "execute_result"
    }
   ],
   "source": [
    "plt.plot([mid_point.real],[mid_point.imag],'ko')"
   ]
  },
  {
   "cell_type": "code",
   "execution_count": 26,
   "metadata": {},
   "outputs": [
    {
     "name": "stdout",
     "output_type": "stream",
     "text": [
      "(0.962472051551+0.271380820957j)\n",
      "0.421891809755\n",
      "0.421895150283\n",
      "."
     ]
    }
   ],
   "source": [
    "longitud_pasoss=abs(long_pasos)/2.\n",
    "solver_pasoss = TrajectorySolver(quad,mid_point,longitud_pasoss/11,longitud_pasoss*1.1,fase_pasos)\n",
    "puntos_pasoss=solver_pasoss()\n",
    "for x in range(puntos_pasoss.shape[0]):\n",
    "    quad.add_plotpoint(complex(puntos_pasoss[x][0],puntos_pasoss[x][1]))\n",
    "    plt.plot([puntos_pasoss[x][0]],[puntos_pasoss[x][1]],'go')"
   ]
  },
  {
   "cell_type": "code",
   "execution_count": null,
   "metadata": {
    "collapsed": true
   },
   "outputs": [],
   "source": [
    "quad.trajectories ={}"
   ]
  },
  {
   "cell_type": "code",
   "execution_count": null,
   "metadata": {
    "collapsed": true
   },
   "outputs": [],
   "source": [
    "fase_pasos"
   ]
  },
  {
   "cell_type": "code",
   "execution_count": 40,
   "metadata": {
    "collapsed": true
   },
   "outputs": [],
   "source": [
    "quad.phase=complex(1,-.5*pi)"
   ]
  },
  {
   "cell_type": "code",
   "execution_count": 45,
   "metadata": {
    "scrolled": true
   },
   "outputs": [
    {
     "name": "stdout",
     "output_type": "stream",
     "text": [
      "\n"
     ]
    }
   ],
   "source": [
    "quad_drawer.draw_trajectories()"
   ]
  },
  {
   "cell_type": "code",
   "execution_count": 24,
   "metadata": {
    "collapsed": true
   },
   "outputs": [],
   "source": [
    "quad.phase=fase_pasos\n",
    "quad.plotpoints = [mid_point]"
   ]
  },
  {
   "cell_type": "code",
   "execution_count": null,
   "metadata": {
    "collapsed": true,
    "scrolled": true
   },
   "outputs": [],
   "source": [
    "plt.savefig('franja4.pgf')"
   ]
  }
 ],
 "metadata": {
  "kernelspec": {
   "display_name": "Python 2",
   "language": "python",
   "name": "python2"
  },
  "language_info": {
   "codemirror_mode": {
    "name": "ipython",
    "version": 2
   },
   "file_extension": ".py",
   "mimetype": "text/x-python",
   "name": "python",
   "nbconvert_exporter": "python",
   "pygments_lexer": "ipython2",
   "version": "2.7.13"
  }
 },
 "nbformat": 4,
 "nbformat_minor": 2
}
