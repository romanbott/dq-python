{
 "cells": [
  {
   "cell_type": "code",
   "execution_count": 2,
   "metadata": {},
   "outputs": [],
   "source": [
    "from dqnotebook import QuadraticDrawer\n",
    "%matplotlib notebook\n",
    "import matplotlib as mpl\n",
    "mpl.use(\"pgf\")\n",
    "from matplotlib.collections import LineCollection\n",
    "from scipy.integrate import odeint\n",
    "import sys\n",
    "import numpy as np\n",
    "from cmath import *\n",
    "from obj import Monodromy, QuadraticDifferential, integrar, fase_silla\n",
    "pgf_with_pdflatex = {\n",
    "    \"pgf.texsystem\": \"pdflatex\"\n",
    "}\n",
    "mpl.rcParams.update(pgf_with_pdflatex)\n",
    "mpl.rcParams['lines.linewidth'] = 10\n",
    "import matplotlib.pyplot as plt"
   ]
  },
  {
   "cell_type": "code",
   "execution_count": 3,
   "metadata": {
    "collapsed": true
   },
   "outputs": [],
   "source": [
    "lim = 100\n",
    "maxreps = 50000\n",
    "maxint = 100\n",
    "t= np.linspace(0,.5,2) #intervalo temporal\n",
    "normav = 0.001\n",
    "ri=sqrt(1j)\n",
    "ric=sqrt(-1j)"
   ]
  },
  {
   "cell_type": "code",
   "execution_count": 4,
   "metadata": {
    "collapsed": true
   },
   "outputs": [],
   "source": [
    "class TrajectorySolver:\n",
    "    \"\"\"clase que representa una trayectoria y los metodos para calcularla\"\"\"\n",
    "\n",
    "    def __init__(self, quad, plotpoint, spacing=.3, longmax = 100, phase = None):\n",
    "        self.qd = quad\n",
    "        if phase: self._phase = phase\n",
    "        else: self._phase = quad.phase\n",
    "        self.plotpoint = plotpoint\n",
    "        self.first = plotpoint\n",
    "        self.last = plotpoint\n",
    "        self.first_mon = Monodromy(quad(plotpoint).conjugate())\n",
    "        self.last_mon = Monodromy(quad(plotpoint).conjugate())\n",
    "        self.coordinates = np.array([[plotpoint.real, plotpoint.imag]])\n",
    "        self.spacing=spacing\n",
    "        self.longmax = longmax\n",
    "\n",
    "    def __call__(self):\n",
    "        if self._phase != self.qd.phase:\n",
    "            phase_old= self.qd.phase\n",
    "            self.qd.phase=self._phase\n",
    "        else:\n",
    "            phase_old = self._phase\n",
    "        if self.first == self.last:\n",
    "            self.tp()\n",
    "            self.tn()\n",
    "            sys.stdout.write(\".\")\n",
    "            sys.stdout.flush()\n",
    "        self.qd.phase=phase_old\n",
    "        return self.coordinates\n",
    "\n",
    "    def traject(self, sign, mon, z):\n",
    "        norma = 0.5\n",
    "        coord = np.array([[z.real, z.imag]])\n",
    "        rep = 0\n",
    "        fin = z\n",
    "        inicio = z\n",
    "        ultimo = 0.0\n",
    "        start = z\n",
    "        longitud = 0.0\n",
    "        F = lambda y,t,mono: [sign*self.f(y,t,mono)[0],sign*self.f(y,t,mono)[1],normav*abs(sqrt(self.qd.QD(complex(y[0],y[1]))))]\n",
    "#        F = lambda y,t,mono: [sign*self.f(y,t,mono)[0],sign*self.f(y,t,mono)[1],normav]\n",
    "        while (self.qd.close_2pole(fin) and self.qd.close_2smplpole(fin) and norma < lim and rep < maxreps):\n",
    "            sol = odeint(F, [inicio.real, inicio.imag, longitud], t, mxstep = maxint, args=(mon,))\n",
    "            fin = complex(sol[-1,0], sol[-1,1])\n",
    "            mon(self.qd(fin).conjugate())\n",
    "            longitud = sol[-1,2]\n",
    "            if self.spacing < longitud-ultimo:\n",
    "                coord = np.append(coord, np.array([[fin.real, fin.imag]]), axis = 0)\n",
    "                ultimo = longitud\n",
    "                #ultimo = fin\n",
    "            if self.longmax < longitud:\n",
    "                break\n",
    "            inicio = fin\n",
    "            norma = abs(inicio)\n",
    "            if 50 < rep and 0.01 > abs(fin-start):\n",
    "                break\n",
    "            rep += 1\n",
    "        print longitud\n",
    "        return coord\n",
    "\n",
    "    def tp(self):\n",
    "        self.coordinates = np.vstack((self.coordinates,  self.traject(1, self.last_mon, self.last)))\n",
    "        self.last=complex(self.coordinates[-1][0], self.coordinates[-1][1])\n",
    "        return\n",
    "\n",
    "    def tn(self):\n",
    "        self.coordinates = np.vstack((self.traject(-1, self.first_mon, self.first)[::-1], self.coordinates))\n",
    "        self.first=complex(self.coordinates[0][0], self.coordinates[0][1])\n",
    "        return\n",
    "\n",
    "    def f(self, y, t, mono):\n",
    "        x = y[0]\n",
    "        y = y[1]\n",
    "        z = mono.dist(self.qd(complex(x,y)).conjugate())\n",
    "        z *= normav\n",
    "        #if abs(complex(x, y)) > 1:\n",
    "        #    z *= abs(complex(x,y))\n",
    "        return [z.real, z.imag]\n",
    "   "
   ]
  },
  {
   "cell_type": "code",
   "execution_count": 5,
   "metadata": {
    "collapsed": true
   },
   "outputs": [],
   "source": [
    "def mid_point_saddle(z,w,quad):\n",
    "    longitud_silla=integrar(z,w,quad)\n",
    "    mid_lenght=abs(longitud_silla)/2\n",
    "    start=z+(w-z)*0.00001\n",
    "    fase=fase_silla(z,w,quad)\n",
    "    solver=TrajectorySolver(quad,start,mid_lenght,mid_lenght,fase)\n",
    "    puntos=solver()\n",
    "    mid_point=complex(puntos[-1][0],puntos[-1][1])\n",
    "    return mid_point"
   ]
  },
  {
   "cell_type": "code",
   "execution_count": 6,
   "metadata": {
    "collapsed": true
   },
   "outputs": [],
   "source": [
    "quad=QuadraticDifferential()"
   ]
  },
  {
   "cell_type": "code",
   "execution_count": 73,
   "metadata": {
    "scrolled": false
   },
   "outputs": [
    {
     "data": {
      "application/javascript": [
       "/* Put everything inside the global mpl namespace */\n",
       "window.mpl = {};\n",
       "\n",
       "\n",
       "mpl.get_websocket_type = function() {\n",
       "    if (typeof(WebSocket) !== 'undefined') {\n",
       "        return WebSocket;\n",
       "    } else if (typeof(MozWebSocket) !== 'undefined') {\n",
       "        return MozWebSocket;\n",
       "    } else {\n",
       "        alert('Your browser does not have WebSocket support.' +\n",
       "              'Please try Chrome, Safari or Firefox ≥ 6. ' +\n",
       "              'Firefox 4 and 5 are also supported but you ' +\n",
       "              'have to enable WebSockets in about:config.');\n",
       "    };\n",
       "}\n",
       "\n",
       "mpl.figure = function(figure_id, websocket, ondownload, parent_element) {\n",
       "    this.id = figure_id;\n",
       "\n",
       "    this.ws = websocket;\n",
       "\n",
       "    this.supports_binary = (this.ws.binaryType != undefined);\n",
       "\n",
       "    if (!this.supports_binary) {\n",
       "        var warnings = document.getElementById(\"mpl-warnings\");\n",
       "        if (warnings) {\n",
       "            warnings.style.display = 'block';\n",
       "            warnings.textContent = (\n",
       "                \"This browser does not support binary websocket messages. \" +\n",
       "                    \"Performance may be slow.\");\n",
       "        }\n",
       "    }\n",
       "\n",
       "    this.imageObj = new Image();\n",
       "\n",
       "    this.context = undefined;\n",
       "    this.message = undefined;\n",
       "    this.canvas = undefined;\n",
       "    this.rubberband_canvas = undefined;\n",
       "    this.rubberband_context = undefined;\n",
       "    this.format_dropdown = undefined;\n",
       "\n",
       "    this.image_mode = 'full';\n",
       "\n",
       "    this.root = $('<div/>');\n",
       "    this._root_extra_style(this.root)\n",
       "    this.root.attr('style', 'display: inline-block');\n",
       "\n",
       "    $(parent_element).append(this.root);\n",
       "\n",
       "    this._init_header(this);\n",
       "    this._init_canvas(this);\n",
       "    this._init_toolbar(this);\n",
       "\n",
       "    var fig = this;\n",
       "\n",
       "    this.waiting = false;\n",
       "\n",
       "    this.ws.onopen =  function () {\n",
       "            fig.send_message(\"supports_binary\", {value: fig.supports_binary});\n",
       "            fig.send_message(\"send_image_mode\", {});\n",
       "            if (mpl.ratio != 1) {\n",
       "                fig.send_message(\"set_dpi_ratio\", {'dpi_ratio': mpl.ratio});\n",
       "            }\n",
       "            fig.send_message(\"refresh\", {});\n",
       "        }\n",
       "\n",
       "    this.imageObj.onload = function() {\n",
       "            if (fig.image_mode == 'full') {\n",
       "                // Full images could contain transparency (where diff images\n",
       "                // almost always do), so we need to clear the canvas so that\n",
       "                // there is no ghosting.\n",
       "                fig.context.clearRect(0, 0, fig.canvas.width, fig.canvas.height);\n",
       "            }\n",
       "            fig.context.drawImage(fig.imageObj, 0, 0);\n",
       "        };\n",
       "\n",
       "    this.imageObj.onunload = function() {\n",
       "        this.ws.close();\n",
       "    }\n",
       "\n",
       "    this.ws.onmessage = this._make_on_message_function(this);\n",
       "\n",
       "    this.ondownload = ondownload;\n",
       "}\n",
       "\n",
       "mpl.figure.prototype._init_header = function() {\n",
       "    var titlebar = $(\n",
       "        '<div class=\"ui-dialog-titlebar ui-widget-header ui-corner-all ' +\n",
       "        'ui-helper-clearfix\"/>');\n",
       "    var titletext = $(\n",
       "        '<div class=\"ui-dialog-title\" style=\"width: 100%; ' +\n",
       "        'text-align: center; padding: 3px;\"/>');\n",
       "    titlebar.append(titletext)\n",
       "    this.root.append(titlebar);\n",
       "    this.header = titletext[0];\n",
       "}\n",
       "\n",
       "\n",
       "\n",
       "mpl.figure.prototype._canvas_extra_style = function(canvas_div) {\n",
       "\n",
       "}\n",
       "\n",
       "\n",
       "mpl.figure.prototype._root_extra_style = function(canvas_div) {\n",
       "\n",
       "}\n",
       "\n",
       "mpl.figure.prototype._init_canvas = function() {\n",
       "    var fig = this;\n",
       "\n",
       "    var canvas_div = $('<div/>');\n",
       "\n",
       "    canvas_div.attr('style', 'position: relative; clear: both; outline: 0');\n",
       "\n",
       "    function canvas_keyboard_event(event) {\n",
       "        return fig.key_event(event, event['data']);\n",
       "    }\n",
       "\n",
       "    canvas_div.keydown('key_press', canvas_keyboard_event);\n",
       "    canvas_div.keyup('key_release', canvas_keyboard_event);\n",
       "    this.canvas_div = canvas_div\n",
       "    this._canvas_extra_style(canvas_div)\n",
       "    this.root.append(canvas_div);\n",
       "\n",
       "    var canvas = $('<canvas/>');\n",
       "    canvas.addClass('mpl-canvas');\n",
       "    canvas.attr('style', \"left: 0; top: 0; z-index: 0; outline: 0\")\n",
       "\n",
       "    this.canvas = canvas[0];\n",
       "    this.context = canvas[0].getContext(\"2d\");\n",
       "\n",
       "    var backingStore = this.context.backingStorePixelRatio ||\n",
       "\tthis.context.webkitBackingStorePixelRatio ||\n",
       "\tthis.context.mozBackingStorePixelRatio ||\n",
       "\tthis.context.msBackingStorePixelRatio ||\n",
       "\tthis.context.oBackingStorePixelRatio ||\n",
       "\tthis.context.backingStorePixelRatio || 1;\n",
       "\n",
       "    mpl.ratio = (window.devicePixelRatio || 1) / backingStore;\n",
       "\n",
       "    var rubberband = $('<canvas/>');\n",
       "    rubberband.attr('style', \"position: absolute; left: 0; top: 0; z-index: 1;\")\n",
       "\n",
       "    var pass_mouse_events = true;\n",
       "\n",
       "    canvas_div.resizable({\n",
       "        start: function(event, ui) {\n",
       "            pass_mouse_events = false;\n",
       "        },\n",
       "        resize: function(event, ui) {\n",
       "            fig.request_resize(ui.size.width, ui.size.height);\n",
       "        },\n",
       "        stop: function(event, ui) {\n",
       "            pass_mouse_events = true;\n",
       "            fig.request_resize(ui.size.width, ui.size.height);\n",
       "        },\n",
       "    });\n",
       "\n",
       "    function mouse_event_fn(event) {\n",
       "        if (pass_mouse_events)\n",
       "            return fig.mouse_event(event, event['data']);\n",
       "    }\n",
       "\n",
       "    rubberband.mousedown('button_press', mouse_event_fn);\n",
       "    rubberband.mouseup('button_release', mouse_event_fn);\n",
       "    // Throttle sequential mouse events to 1 every 20ms.\n",
       "    rubberband.mousemove('motion_notify', mouse_event_fn);\n",
       "\n",
       "    rubberband.mouseenter('figure_enter', mouse_event_fn);\n",
       "    rubberband.mouseleave('figure_leave', mouse_event_fn);\n",
       "\n",
       "    canvas_div.on(\"wheel\", function (event) {\n",
       "        event = event.originalEvent;\n",
       "        event['data'] = 'scroll'\n",
       "        if (event.deltaY < 0) {\n",
       "            event.step = 1;\n",
       "        } else {\n",
       "            event.step = -1;\n",
       "        }\n",
       "        mouse_event_fn(event);\n",
       "    });\n",
       "\n",
       "    canvas_div.append(canvas);\n",
       "    canvas_div.append(rubberband);\n",
       "\n",
       "    this.rubberband = rubberband;\n",
       "    this.rubberband_canvas = rubberband[0];\n",
       "    this.rubberband_context = rubberband[0].getContext(\"2d\");\n",
       "    this.rubberband_context.strokeStyle = \"#000000\";\n",
       "\n",
       "    this._resize_canvas = function(width, height) {\n",
       "        // Keep the size of the canvas, canvas container, and rubber band\n",
       "        // canvas in synch.\n",
       "        canvas_div.css('width', width)\n",
       "        canvas_div.css('height', height)\n",
       "\n",
       "        canvas.attr('width', width * mpl.ratio);\n",
       "        canvas.attr('height', height * mpl.ratio);\n",
       "        canvas.attr('style', 'width: ' + width + 'px; height: ' + height + 'px;');\n",
       "\n",
       "        rubberband.attr('width', width);\n",
       "        rubberband.attr('height', height);\n",
       "    }\n",
       "\n",
       "    // Set the figure to an initial 600x600px, this will subsequently be updated\n",
       "    // upon first draw.\n",
       "    this._resize_canvas(600, 600);\n",
       "\n",
       "    // Disable right mouse context menu.\n",
       "    $(this.rubberband_canvas).bind(\"contextmenu\",function(e){\n",
       "        return false;\n",
       "    });\n",
       "\n",
       "    function set_focus () {\n",
       "        canvas.focus();\n",
       "        canvas_div.focus();\n",
       "    }\n",
       "\n",
       "    window.setTimeout(set_focus, 100);\n",
       "}\n",
       "\n",
       "mpl.figure.prototype._init_toolbar = function() {\n",
       "    var fig = this;\n",
       "\n",
       "    var nav_element = $('<div/>')\n",
       "    nav_element.attr('style', 'width: 100%');\n",
       "    this.root.append(nav_element);\n",
       "\n",
       "    // Define a callback function for later on.\n",
       "    function toolbar_event(event) {\n",
       "        return fig.toolbar_button_onclick(event['data']);\n",
       "    }\n",
       "    function toolbar_mouse_event(event) {\n",
       "        return fig.toolbar_button_onmouseover(event['data']);\n",
       "    }\n",
       "\n",
       "    for(var toolbar_ind in mpl.toolbar_items) {\n",
       "        var name = mpl.toolbar_items[toolbar_ind][0];\n",
       "        var tooltip = mpl.toolbar_items[toolbar_ind][1];\n",
       "        var image = mpl.toolbar_items[toolbar_ind][2];\n",
       "        var method_name = mpl.toolbar_items[toolbar_ind][3];\n",
       "\n",
       "        if (!name) {\n",
       "            // put a spacer in here.\n",
       "            continue;\n",
       "        }\n",
       "        var button = $('<button/>');\n",
       "        button.addClass('ui-button ui-widget ui-state-default ui-corner-all ' +\n",
       "                        'ui-button-icon-only');\n",
       "        button.attr('role', 'button');\n",
       "        button.attr('aria-disabled', 'false');\n",
       "        button.click(method_name, toolbar_event);\n",
       "        button.mouseover(tooltip, toolbar_mouse_event);\n",
       "\n",
       "        var icon_img = $('<span/>');\n",
       "        icon_img.addClass('ui-button-icon-primary ui-icon');\n",
       "        icon_img.addClass(image);\n",
       "        icon_img.addClass('ui-corner-all');\n",
       "\n",
       "        var tooltip_span = $('<span/>');\n",
       "        tooltip_span.addClass('ui-button-text');\n",
       "        tooltip_span.html(tooltip);\n",
       "\n",
       "        button.append(icon_img);\n",
       "        button.append(tooltip_span);\n",
       "\n",
       "        nav_element.append(button);\n",
       "    }\n",
       "\n",
       "    var fmt_picker_span = $('<span/>');\n",
       "\n",
       "    var fmt_picker = $('<select/>');\n",
       "    fmt_picker.addClass('mpl-toolbar-option ui-widget ui-widget-content');\n",
       "    fmt_picker_span.append(fmt_picker);\n",
       "    nav_element.append(fmt_picker_span);\n",
       "    this.format_dropdown = fmt_picker[0];\n",
       "\n",
       "    for (var ind in mpl.extensions) {\n",
       "        var fmt = mpl.extensions[ind];\n",
       "        var option = $(\n",
       "            '<option/>', {selected: fmt === mpl.default_extension}).html(fmt);\n",
       "        fmt_picker.append(option)\n",
       "    }\n",
       "\n",
       "    // Add hover states to the ui-buttons\n",
       "    $( \".ui-button\" ).hover(\n",
       "        function() { $(this).addClass(\"ui-state-hover\");},\n",
       "        function() { $(this).removeClass(\"ui-state-hover\");}\n",
       "    );\n",
       "\n",
       "    var status_bar = $('<span class=\"mpl-message\"/>');\n",
       "    nav_element.append(status_bar);\n",
       "    this.message = status_bar[0];\n",
       "}\n",
       "\n",
       "mpl.figure.prototype.request_resize = function(x_pixels, y_pixels) {\n",
       "    // Request matplotlib to resize the figure. Matplotlib will then trigger a resize in the client,\n",
       "    // which will in turn request a refresh of the image.\n",
       "    this.send_message('resize', {'width': x_pixels, 'height': y_pixels});\n",
       "}\n",
       "\n",
       "mpl.figure.prototype.send_message = function(type, properties) {\n",
       "    properties['type'] = type;\n",
       "    properties['figure_id'] = this.id;\n",
       "    this.ws.send(JSON.stringify(properties));\n",
       "}\n",
       "\n",
       "mpl.figure.prototype.send_draw_message = function() {\n",
       "    if (!this.waiting) {\n",
       "        this.waiting = true;\n",
       "        this.ws.send(JSON.stringify({type: \"draw\", figure_id: this.id}));\n",
       "    }\n",
       "}\n",
       "\n",
       "\n",
       "mpl.figure.prototype.handle_save = function(fig, msg) {\n",
       "    var format_dropdown = fig.format_dropdown;\n",
       "    var format = format_dropdown.options[format_dropdown.selectedIndex].value;\n",
       "    fig.ondownload(fig, format);\n",
       "}\n",
       "\n",
       "\n",
       "mpl.figure.prototype.handle_resize = function(fig, msg) {\n",
       "    var size = msg['size'];\n",
       "    if (size[0] != fig.canvas.width || size[1] != fig.canvas.height) {\n",
       "        fig._resize_canvas(size[0], size[1]);\n",
       "        fig.send_message(\"refresh\", {});\n",
       "    };\n",
       "}\n",
       "\n",
       "mpl.figure.prototype.handle_rubberband = function(fig, msg) {\n",
       "    var x0 = msg['x0'] / mpl.ratio;\n",
       "    var y0 = (fig.canvas.height - msg['y0']) / mpl.ratio;\n",
       "    var x1 = msg['x1'] / mpl.ratio;\n",
       "    var y1 = (fig.canvas.height - msg['y1']) / mpl.ratio;\n",
       "    x0 = Math.floor(x0) + 0.5;\n",
       "    y0 = Math.floor(y0) + 0.5;\n",
       "    x1 = Math.floor(x1) + 0.5;\n",
       "    y1 = Math.floor(y1) + 0.5;\n",
       "    var min_x = Math.min(x0, x1);\n",
       "    var min_y = Math.min(y0, y1);\n",
       "    var width = Math.abs(x1 - x0);\n",
       "    var height = Math.abs(y1 - y0);\n",
       "\n",
       "    fig.rubberband_context.clearRect(\n",
       "        0, 0, fig.canvas.width, fig.canvas.height);\n",
       "\n",
       "    fig.rubberband_context.strokeRect(min_x, min_y, width, height);\n",
       "}\n",
       "\n",
       "mpl.figure.prototype.handle_figure_label = function(fig, msg) {\n",
       "    // Updates the figure title.\n",
       "    fig.header.textContent = msg['label'];\n",
       "}\n",
       "\n",
       "mpl.figure.prototype.handle_cursor = function(fig, msg) {\n",
       "    var cursor = msg['cursor'];\n",
       "    switch(cursor)\n",
       "    {\n",
       "    case 0:\n",
       "        cursor = 'pointer';\n",
       "        break;\n",
       "    case 1:\n",
       "        cursor = 'default';\n",
       "        break;\n",
       "    case 2:\n",
       "        cursor = 'crosshair';\n",
       "        break;\n",
       "    case 3:\n",
       "        cursor = 'move';\n",
       "        break;\n",
       "    }\n",
       "    fig.rubberband_canvas.style.cursor = cursor;\n",
       "}\n",
       "\n",
       "mpl.figure.prototype.handle_message = function(fig, msg) {\n",
       "    fig.message.textContent = msg['message'];\n",
       "}\n",
       "\n",
       "mpl.figure.prototype.handle_draw = function(fig, msg) {\n",
       "    // Request the server to send over a new figure.\n",
       "    fig.send_draw_message();\n",
       "}\n",
       "\n",
       "mpl.figure.prototype.handle_image_mode = function(fig, msg) {\n",
       "    fig.image_mode = msg['mode'];\n",
       "}\n",
       "\n",
       "mpl.figure.prototype.updated_canvas_event = function() {\n",
       "    // Called whenever the canvas gets updated.\n",
       "    this.send_message(\"ack\", {});\n",
       "}\n",
       "\n",
       "// A function to construct a web socket function for onmessage handling.\n",
       "// Called in the figure constructor.\n",
       "mpl.figure.prototype._make_on_message_function = function(fig) {\n",
       "    return function socket_on_message(evt) {\n",
       "        if (evt.data instanceof Blob) {\n",
       "            /* FIXME: We get \"Resource interpreted as Image but\n",
       "             * transferred with MIME type text/plain:\" errors on\n",
       "             * Chrome.  But how to set the MIME type?  It doesn't seem\n",
       "             * to be part of the websocket stream */\n",
       "            evt.data.type = \"image/png\";\n",
       "\n",
       "            /* Free the memory for the previous frames */\n",
       "            if (fig.imageObj.src) {\n",
       "                (window.URL || window.webkitURL).revokeObjectURL(\n",
       "                    fig.imageObj.src);\n",
       "            }\n",
       "\n",
       "            fig.imageObj.src = (window.URL || window.webkitURL).createObjectURL(\n",
       "                evt.data);\n",
       "            fig.updated_canvas_event();\n",
       "            fig.waiting = false;\n",
       "            return;\n",
       "        }\n",
       "        else if (typeof evt.data === 'string' && evt.data.slice(0, 21) == \"data:image/png;base64\") {\n",
       "            fig.imageObj.src = evt.data;\n",
       "            fig.updated_canvas_event();\n",
       "            fig.waiting = false;\n",
       "            return;\n",
       "        }\n",
       "\n",
       "        var msg = JSON.parse(evt.data);\n",
       "        var msg_type = msg['type'];\n",
       "\n",
       "        // Call the  \"handle_{type}\" callback, which takes\n",
       "        // the figure and JSON message as its only arguments.\n",
       "        try {\n",
       "            var callback = fig[\"handle_\" + msg_type];\n",
       "        } catch (e) {\n",
       "            console.log(\"No handler for the '\" + msg_type + \"' message type: \", msg);\n",
       "            return;\n",
       "        }\n",
       "\n",
       "        if (callback) {\n",
       "            try {\n",
       "                // console.log(\"Handling '\" + msg_type + \"' message: \", msg);\n",
       "                callback(fig, msg);\n",
       "            } catch (e) {\n",
       "                console.log(\"Exception inside the 'handler_\" + msg_type + \"' callback:\", e, e.stack, msg);\n",
       "            }\n",
       "        }\n",
       "    };\n",
       "}\n",
       "\n",
       "// from http://stackoverflow.com/questions/1114465/getting-mouse-location-in-canvas\n",
       "mpl.findpos = function(e) {\n",
       "    //this section is from http://www.quirksmode.org/js/events_properties.html\n",
       "    var targ;\n",
       "    if (!e)\n",
       "        e = window.event;\n",
       "    if (e.target)\n",
       "        targ = e.target;\n",
       "    else if (e.srcElement)\n",
       "        targ = e.srcElement;\n",
       "    if (targ.nodeType == 3) // defeat Safari bug\n",
       "        targ = targ.parentNode;\n",
       "\n",
       "    // jQuery normalizes the pageX and pageY\n",
       "    // pageX,Y are the mouse positions relative to the document\n",
       "    // offset() returns the position of the element relative to the document\n",
       "    var x = e.pageX - $(targ).offset().left;\n",
       "    var y = e.pageY - $(targ).offset().top;\n",
       "\n",
       "    return {\"x\": x, \"y\": y};\n",
       "};\n",
       "\n",
       "/*\n",
       " * return a copy of an object with only non-object keys\n",
       " * we need this to avoid circular references\n",
       " * http://stackoverflow.com/a/24161582/3208463\n",
       " */\n",
       "function simpleKeys (original) {\n",
       "  return Object.keys(original).reduce(function (obj, key) {\n",
       "    if (typeof original[key] !== 'object')\n",
       "        obj[key] = original[key]\n",
       "    return obj;\n",
       "  }, {});\n",
       "}\n",
       "\n",
       "mpl.figure.prototype.mouse_event = function(event, name) {\n",
       "    var canvas_pos = mpl.findpos(event)\n",
       "\n",
       "    if (name === 'button_press')\n",
       "    {\n",
       "        this.canvas.focus();\n",
       "        this.canvas_div.focus();\n",
       "    }\n",
       "\n",
       "    var x = canvas_pos.x * mpl.ratio;\n",
       "    var y = canvas_pos.y * mpl.ratio;\n",
       "\n",
       "    this.send_message(name, {x: x, y: y, button: event.button,\n",
       "                             step: event.step,\n",
       "                             guiEvent: simpleKeys(event)});\n",
       "\n",
       "    /* This prevents the web browser from automatically changing to\n",
       "     * the text insertion cursor when the button is pressed.  We want\n",
       "     * to control all of the cursor setting manually through the\n",
       "     * 'cursor' event from matplotlib */\n",
       "    event.preventDefault();\n",
       "    return false;\n",
       "}\n",
       "\n",
       "mpl.figure.prototype._key_event_extra = function(event, name) {\n",
       "    // Handle any extra behaviour associated with a key event\n",
       "}\n",
       "\n",
       "mpl.figure.prototype.key_event = function(event, name) {\n",
       "\n",
       "    // Prevent repeat events\n",
       "    if (name == 'key_press')\n",
       "    {\n",
       "        if (event.which === this._key)\n",
       "            return;\n",
       "        else\n",
       "            this._key = event.which;\n",
       "    }\n",
       "    if (name == 'key_release')\n",
       "        this._key = null;\n",
       "\n",
       "    var value = '';\n",
       "    if (event.ctrlKey && event.which != 17)\n",
       "        value += \"ctrl+\";\n",
       "    if (event.altKey && event.which != 18)\n",
       "        value += \"alt+\";\n",
       "    if (event.shiftKey && event.which != 16)\n",
       "        value += \"shift+\";\n",
       "\n",
       "    value += 'k';\n",
       "    value += event.which.toString();\n",
       "\n",
       "    this._key_event_extra(event, name);\n",
       "\n",
       "    this.send_message(name, {key: value,\n",
       "                             guiEvent: simpleKeys(event)});\n",
       "    return false;\n",
       "}\n",
       "\n",
       "mpl.figure.prototype.toolbar_button_onclick = function(name) {\n",
       "    if (name == 'download') {\n",
       "        this.handle_save(this, null);\n",
       "    } else {\n",
       "        this.send_message(\"toolbar_button\", {name: name});\n",
       "    }\n",
       "};\n",
       "\n",
       "mpl.figure.prototype.toolbar_button_onmouseover = function(tooltip) {\n",
       "    this.message.textContent = tooltip;\n",
       "};\n",
       "mpl.toolbar_items = [[\"Home\", \"Reset original view\", \"fa fa-home icon-home\", \"home\"], [\"Back\", \"Back to  previous view\", \"fa fa-arrow-left icon-arrow-left\", \"back\"], [\"Forward\", \"Forward to next view\", \"fa fa-arrow-right icon-arrow-right\", \"forward\"], [\"\", \"\", \"\", \"\"], [\"Pan\", \"Pan axes with left mouse, zoom with right\", \"fa fa-arrows icon-move\", \"pan\"], [\"Zoom\", \"Zoom to rectangle\", \"fa fa-square-o icon-check-empty\", \"zoom\"], [\"\", \"\", \"\", \"\"], [\"Download\", \"Download plot\", \"fa fa-floppy-o icon-save\", \"download\"]];\n",
       "\n",
       "mpl.extensions = [\"eps\", \"pdf\", \"png\", \"ps\", \"raw\", \"svg\"];\n",
       "\n",
       "mpl.default_extension = \"png\";var comm_websocket_adapter = function(comm) {\n",
       "    // Create a \"websocket\"-like object which calls the given IPython comm\n",
       "    // object with the appropriate methods. Currently this is a non binary\n",
       "    // socket, so there is still some room for performance tuning.\n",
       "    var ws = {};\n",
       "\n",
       "    ws.close = function() {\n",
       "        comm.close()\n",
       "    };\n",
       "    ws.send = function(m) {\n",
       "        //console.log('sending', m);\n",
       "        comm.send(m);\n",
       "    };\n",
       "    // Register the callback with on_msg.\n",
       "    comm.on_msg(function(msg) {\n",
       "        //console.log('receiving', msg['content']['data'], msg);\n",
       "        // Pass the mpl event to the overriden (by mpl) onmessage function.\n",
       "        ws.onmessage(msg['content']['data'])\n",
       "    });\n",
       "    return ws;\n",
       "}\n",
       "\n",
       "mpl.mpl_figure_comm = function(comm, msg) {\n",
       "    // This is the function which gets called when the mpl process\n",
       "    // starts-up an IPython Comm through the \"matplotlib\" channel.\n",
       "\n",
       "    var id = msg.content.data.id;\n",
       "    // Get hold of the div created by the display call when the Comm\n",
       "    // socket was opened in Python.\n",
       "    var element = $(\"#\" + id);\n",
       "    var ws_proxy = comm_websocket_adapter(comm)\n",
       "\n",
       "    function ondownload(figure, format) {\n",
       "        window.open(figure.imageObj.src);\n",
       "    }\n",
       "\n",
       "    var fig = new mpl.figure(id, ws_proxy,\n",
       "                           ondownload,\n",
       "                           element.get(0));\n",
       "\n",
       "    // Call onopen now - mpl needs it, as it is assuming we've passed it a real\n",
       "    // web socket which is closed, not our websocket->open comm proxy.\n",
       "    ws_proxy.onopen();\n",
       "\n",
       "    fig.parent_element = element.get(0);\n",
       "    fig.cell_info = mpl.find_output_cell(\"<div id='\" + id + \"'></div>\");\n",
       "    if (!fig.cell_info) {\n",
       "        console.error(\"Failed to find cell for figure\", id, fig);\n",
       "        return;\n",
       "    }\n",
       "\n",
       "    var output_index = fig.cell_info[2]\n",
       "    var cell = fig.cell_info[0];\n",
       "\n",
       "};\n",
       "\n",
       "mpl.figure.prototype.handle_close = function(fig, msg) {\n",
       "    var width = fig.canvas.width/mpl.ratio\n",
       "    fig.root.unbind('remove')\n",
       "\n",
       "    // Update the output cell to use the data from the current canvas.\n",
       "    fig.push_to_output();\n",
       "    var dataURL = fig.canvas.toDataURL();\n",
       "    // Re-enable the keyboard manager in IPython - without this line, in FF,\n",
       "    // the notebook keyboard shortcuts fail.\n",
       "    IPython.keyboard_manager.enable()\n",
       "    $(fig.parent_element).html('<img src=\"' + dataURL + '\" width=\"' + width + '\">');\n",
       "    fig.close_ws(fig, msg);\n",
       "}\n",
       "\n",
       "mpl.figure.prototype.close_ws = function(fig, msg){\n",
       "    fig.send_message('closing', msg);\n",
       "    // fig.ws.close()\n",
       "}\n",
       "\n",
       "mpl.figure.prototype.push_to_output = function(remove_interactive) {\n",
       "    // Turn the data on the canvas into data in the output cell.\n",
       "    var width = this.canvas.width/mpl.ratio\n",
       "    var dataURL = this.canvas.toDataURL();\n",
       "    this.cell_info[1]['text/html'] = '<img src=\"' + dataURL + '\" width=\"' + width + '\">';\n",
       "}\n",
       "\n",
       "mpl.figure.prototype.updated_canvas_event = function() {\n",
       "    // Tell IPython that the notebook contents must change.\n",
       "    IPython.notebook.set_dirty(true);\n",
       "    this.send_message(\"ack\", {});\n",
       "    var fig = this;\n",
       "    // Wait a second, then push the new image to the DOM so\n",
       "    // that it is saved nicely (might be nice to debounce this).\n",
       "    setTimeout(function () { fig.push_to_output() }, 1000);\n",
       "}\n",
       "\n",
       "mpl.figure.prototype._init_toolbar = function() {\n",
       "    var fig = this;\n",
       "\n",
       "    var nav_element = $('<div/>')\n",
       "    nav_element.attr('style', 'width: 100%');\n",
       "    this.root.append(nav_element);\n",
       "\n",
       "    // Define a callback function for later on.\n",
       "    function toolbar_event(event) {\n",
       "        return fig.toolbar_button_onclick(event['data']);\n",
       "    }\n",
       "    function toolbar_mouse_event(event) {\n",
       "        return fig.toolbar_button_onmouseover(event['data']);\n",
       "    }\n",
       "\n",
       "    for(var toolbar_ind in mpl.toolbar_items){\n",
       "        var name = mpl.toolbar_items[toolbar_ind][0];\n",
       "        var tooltip = mpl.toolbar_items[toolbar_ind][1];\n",
       "        var image = mpl.toolbar_items[toolbar_ind][2];\n",
       "        var method_name = mpl.toolbar_items[toolbar_ind][3];\n",
       "\n",
       "        if (!name) { continue; };\n",
       "\n",
       "        var button = $('<button class=\"btn btn-default\" href=\"#\" title=\"' + name + '\"><i class=\"fa ' + image + ' fa-lg\"></i></button>');\n",
       "        button.click(method_name, toolbar_event);\n",
       "        button.mouseover(tooltip, toolbar_mouse_event);\n",
       "        nav_element.append(button);\n",
       "    }\n",
       "\n",
       "    // Add the status bar.\n",
       "    var status_bar = $('<span class=\"mpl-message\" style=\"text-align:right; float: right;\"/>');\n",
       "    nav_element.append(status_bar);\n",
       "    this.message = status_bar[0];\n",
       "\n",
       "    // Add the close button to the window.\n",
       "    var buttongrp = $('<div class=\"btn-group inline pull-right\"></div>');\n",
       "    var button = $('<button class=\"btn btn-mini btn-primary\" href=\"#\" title=\"Stop Interaction\"><i class=\"fa fa-power-off icon-remove icon-large\"></i></button>');\n",
       "    button.click(function (evt) { fig.handle_close(fig, {}); } );\n",
       "    button.mouseover('Stop Interaction', toolbar_mouse_event);\n",
       "    buttongrp.append(button);\n",
       "    var titlebar = this.root.find($('.ui-dialog-titlebar'));\n",
       "    titlebar.prepend(buttongrp);\n",
       "}\n",
       "\n",
       "mpl.figure.prototype._root_extra_style = function(el){\n",
       "    var fig = this\n",
       "    el.on(\"remove\", function(){\n",
       "\tfig.close_ws(fig, {});\n",
       "    });\n",
       "}\n",
       "\n",
       "mpl.figure.prototype._canvas_extra_style = function(el){\n",
       "    // this is important to make the div 'focusable\n",
       "    el.attr('tabindex', 0)\n",
       "    // reach out to IPython and tell the keyboard manager to turn it's self\n",
       "    // off when our div gets focus\n",
       "\n",
       "    // location in version 3\n",
       "    if (IPython.notebook.keyboard_manager) {\n",
       "        IPython.notebook.keyboard_manager.register_events(el);\n",
       "    }\n",
       "    else {\n",
       "        // location in version 2\n",
       "        IPython.keyboard_manager.register_events(el);\n",
       "    }\n",
       "\n",
       "}\n",
       "\n",
       "mpl.figure.prototype._key_event_extra = function(event, name) {\n",
       "    var manager = IPython.notebook.keyboard_manager;\n",
       "    if (!manager)\n",
       "        manager = IPython.keyboard_manager;\n",
       "\n",
       "    // Check for shift+enter\n",
       "    if (event.shiftKey && event.which == 13) {\n",
       "        this.canvas_div.blur();\n",
       "        // select the cell after this one\n",
       "        var index = IPython.notebook.find_cell_index(this.cell_info[0]);\n",
       "        IPython.notebook.select(index + 1);\n",
       "    }\n",
       "}\n",
       "\n",
       "mpl.figure.prototype.handle_save = function(fig, msg) {\n",
       "    fig.ondownload(fig, null);\n",
       "}\n",
       "\n",
       "\n",
       "mpl.find_output_cell = function(html_output) {\n",
       "    // Return the cell and output element which can be found *uniquely* in the notebook.\n",
       "    // Note - this is a bit hacky, but it is done because the \"notebook_saving.Notebook\"\n",
       "    // IPython event is triggered only after the cells have been serialised, which for\n",
       "    // our purposes (turning an active figure into a static one), is too late.\n",
       "    var cells = IPython.notebook.get_cells();\n",
       "    var ncells = cells.length;\n",
       "    for (var i=0; i<ncells; i++) {\n",
       "        var cell = cells[i];\n",
       "        if (cell.cell_type === 'code'){\n",
       "            for (var j=0; j<cell.output_area.outputs.length; j++) {\n",
       "                var data = cell.output_area.outputs[j];\n",
       "                if (data.data) {\n",
       "                    // IPython >= 3 moved mimebundle to data attribute of output\n",
       "                    data = data.data;\n",
       "                }\n",
       "                if (data['text/html'] == html_output) {\n",
       "                    return [cell, data, j];\n",
       "                }\n",
       "            }\n",
       "        }\n",
       "    }\n",
       "}\n",
       "\n",
       "// Register the function which deals with the matplotlib target/channel.\n",
       "// The kernel may be null if the page has been refreshed.\n",
       "if (IPython.notebook.kernel != null) {\n",
       "    IPython.notebook.kernel.comm_manager.register_target('matplotlib', mpl.mpl_figure_comm);\n",
       "}\n"
      ],
      "text/plain": [
       "<IPython.core.display.Javascript object>"
      ]
     },
     "metadata": {},
     "output_type": "display_data"
    },
    {
     "data": {
      "text/html": [
       "<img src=\"data:image/png;base64,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\" width=\"300\">"
      ],
      "text/plain": [
       "<IPython.core.display.HTML object>"
      ]
     },
     "metadata": {},
     "output_type": "display_data"
    }
   ],
   "source": [
    "fig=plt.figure()"
   ]
  },
  {
   "cell_type": "code",
   "execution_count": 96,
   "metadata": {
    "collapsed": true
   },
   "outputs": [],
   "source": [
    "quad_drawer=QuadraticDrawer(quad,fig,.05)\n",
    "limite= 6\n",
    "quad_drawer.ax.set_ylim(-1*limite,limite)\n",
    "quad_drawer.ax.set_xlim(-1*limite,limite)\n",
    "#quad_drawer.ax.set_ylim(-9,11)\n",
    "#quad_drawer.ax.set_xlim(-11,9)\n",
    "fig.set_size_inches(3,3)\n",
    "plt.axis('on')\n",
    "plt.tick_params(axis='both', which='both', bottom='off', top='off', labelbottom='off', right='off', left='off', labelleft='off')"
   ]
  },
  {
   "cell_type": "code",
   "execution_count": 60,
   "metadata": {
    "scrolled": true
   },
   "outputs": [
    {
     "name": "stdout",
     "output_type": "stream",
     "text": [
      "0.0729953137336\n",
      "0.0729759276544\n",
      ".0.0733381853428\n",
      "0.0733381633476\n",
      "."
     ]
    }
   ],
   "source": [
    "mm=draw_saddle(quad,fig,z4,z3)"
   ]
  },
  {
   "cell_type": "code",
   "execution_count": null,
   "metadata": {
    "collapsed": true
   },
   "outputs": [],
   "source": [
    "mm[0].plotpoints"
   ]
  },
  {
   "cell_type": "code",
   "execution_count": null,
   "metadata": {
    "collapsed": true
   },
   "outputs": [],
   "source": [
    "quad_drawer.trajectories.set_color([(.5,.5,.5)])"
   ]
  },
  {
   "cell_type": "code",
   "execution_count": null,
   "metadata": {
    "collapsed": true
   },
   "outputs": [],
   "source": [
    "quad_drawer_sillas.trajectories.set_color([(1,0,0)])"
   ]
  },
  {
   "cell_type": "code",
   "execution_count": 11,
   "metadata": {
    "collapsed": true
   },
   "outputs": [],
   "source": [
    "#quad.zeros=[complex(0,0)]\n",
    "z1=complex(-1,0)\n",
    "z2=complex(1,-2)\n",
    "z3=complex(2,1.2)\n",
    "z4=complex(3.5,-2)\n",
    "w1 = complex(-2,-4)\n",
    "w2 = complex(-4,0)\n",
    "quad.dblpoles = [complex(-3.3,2.3),complex(3.1,3),complex(-2,-1.5),complex(2,0)]\n",
    "quad.zeros = [z1,z2 ,z3,z4]\n",
    "quad.plotpoints = []\n",
    "for x in quad.zeros:\n",
    "    plt.plot([x.real],[x.imag],'bo',ms=3,)\n",
    "for x in quad.dblpoles:\n",
    "    plt.plot([x.real],[x.imag],'go',ms=3,)"
   ]
  },
  {
   "cell_type": "code",
   "execution_count": 86,
   "metadata": {
    "collapsed": true
   },
   "outputs": [],
   "source": [
    "for x in quad.dblpoles:\n",
    "    plt.plot([x.real],[x.imag],'go',ms=3,)"
   ]
  },
  {
   "cell_type": "code",
   "execution_count": 12,
   "metadata": {
    "collapsed": true
   },
   "outputs": [],
   "source": [
    "quad_genericas=QuadraticDifferential(quad)"
   ]
  },
  {
   "cell_type": "code",
   "execution_count": 80,
   "metadata": {
    "collapsed": true
   },
   "outputs": [],
   "source": [
    "quad_drawer_genericas=QuadraticDrawer(quad_genericas,fig,.3,'g')"
   ]
  },
  {
   "cell_type": "code",
   "execution_count": 76,
   "metadata": {
    "collapsed": true
   },
   "outputs": [],
   "source": [
    "quad_genericas.plotpoints = [m1,m2,m3,m4,mid_point,mid_point2]"
   ]
  },
  {
   "cell_type": "code",
   "execution_count": 77,
   "metadata": {
    "collapsed": true
   },
   "outputs": [],
   "source": [
    "quad_genericas.phase=1"
   ]
  },
  {
   "cell_type": "code",
   "execution_count": 81,
   "metadata": {},
   "outputs": [
    {
     "name": "stdout",
     "output_type": "stream",
     "text": [
      "\n"
     ]
    }
   ],
   "source": [
    "quad_drawer_genericas.draw_trajectories()"
   ]
  },
  {
   "cell_type": "code",
   "execution_count": 53,
   "metadata": {
    "collapsed": true
   },
   "outputs": [],
   "source": [
    "def draw_saddle(quad, fig, z1, z2, color='r'):\n",
    "    mid = mid_point_saddle(z1,z2,quad)\n",
    "    plt.plot([mid.real],[mid.imag],'ro',ms=3)\n",
    "    fase = fase_silla(z1,z2,quad)\n",
    "    quad_silla = QuadraticDifferential(quad)\n",
    "    quad_silla.phase = fase\n",
    "    quad_silla.plotpoints = [mid]\n",
    "    longitud_silla=abs(integrar(z1,z2,quad))/2.01\n",
    "    drawer = QuadraticDrawer(quad_silla,fig)\n",
    "    drawer.trajectories.set_color(color)\n",
    "    t= TrajectorySolver(quad_silla,mid, longitud_silla/100, longitud_silla*1.01, fase)\n",
    "    segmentos = t()\n",
    "    drawer.trajectories.set_segments([segmentos])\n",
    "    return [quad_silla, drawer]"
   ]
  },
  {
   "cell_type": "code",
   "execution_count": null,
   "metadata": {
    "collapsed": true
   },
   "outputs": [],
   "source": [
    "#quad.zeros=[complex(0,0)]\n",
    "quad_sillas.dblpoles = [complex(-3.3,2.3),complex(3.1,3),complex(-2,-1.5),complex(2,0)]\n",
    "quad_sillas.zeros = [z1,z2 ,z3,z4]\n",
    "quad_sillas.plotpoints = [m1]\n",
    "quad_sillas.phase=fase1"
   ]
  },
  {
   "cell_type": "code",
   "execution_count": null,
   "metadata": {
    "collapsed": true
   },
   "outputs": [],
   "source": [
    "quad_drawer_sillas.draw_trajectories()"
   ]
  },
  {
   "cell_type": "code",
   "execution_count": 97,
   "metadata": {
    "collapsed": true
   },
   "outputs": [],
   "source": [
    "plt.savefig('triangulacion_zoom_chica.pgf')"
   ]
  },
  {
   "cell_type": "code",
   "execution_count": 14,
   "metadata": {},
   "outputs": [
    {
     "name": "stdout",
     "output_type": "stream",
     "text": [
      "0.0469203282744\n",
      "0.0469582588203\n",
      ".0.0513587329408\n",
      "0.0513549252189\n",
      "."
     ]
    }
   ],
   "source": [
    "m1=mid_point_saddle(z1,z2,quad)\n",
    "fase1=fase_silla(z1,z2,quad)\n",
    "longitud_silla1=abs(integrar(z1,z2,quad))/2.01\n",
    "solver1 = TrajectorySolver(quad,m1,longitud_silla1/10,longitud_silla1*1.1,fase1)\n",
    "puntos1=solver1()\n",
    "for x in range(puntos1.shape[0]):\n",
    "    quad.add_plotpoint(complex(puntos1[x][0],puntos1[x][1]))"
   ]
  },
  {
   "cell_type": "code",
   "execution_count": 15,
   "metadata": {},
   "outputs": [
    {
     "name": "stdout",
     "output_type": "stream",
     "text": [
      "0.0901865579757\n",
      "0.0902157154675\n",
      ".0.0986941210498\n",
      "0.0986980245194\n",
      "."
     ]
    }
   ],
   "source": [
    "m2=mid_point_saddle(z1,z3,quad)\n",
    "fase2=fase_silla(z1,z3,quad)\n",
    "longitud_silla2=abs(integrar(z1,z3,quad))/2.01\n",
    "solver2 = TrajectorySolver(quad,m2,longitud_silla2/10,longitud_silla2*1.1,fase2)\n",
    "puntos2=solver2()\n",
    "for x in range(puntos2.shape[0]):\n",
    "    quad.add_plotpoint(complex(puntos2[x][0],puntos2[x][1]))"
   ]
  },
  {
   "cell_type": "code",
   "execution_count": 18,
   "metadata": {},
   "outputs": [
    {
     "name": "stdout",
     "output_type": "stream",
     "text": [
      "0.012927179042\n",
      "3.20725251476e-07\n",
      ".0.0141497300564\n",
      "0.0141507981358\n",
      "."
     ]
    }
   ],
   "source": [
    "m3=mid_point_saddle(z2,z4,quad)\n",
    "fase3=fase_silla(z2,z4,quad)\n",
    "longitud_silla3=abs(integrar(z2,z4,quad))/2.01\n",
    "solver3 = TrajectorySolver(quad,m3,longitud_silla3/10,longitud_silla3*1.1,fase3)\n",
    "puntos3=solver3()\n",
    "for x in range(puntos3.shape[0]):\n",
    "    quad.add_plotpoint(complex(puntos3[x][0],puntos3[x][1]))"
   ]
  },
  {
   "cell_type": "code",
   "execution_count": 17,
   "metadata": {},
   "outputs": [
    {
     "name": "stdout",
     "output_type": "stream",
     "text": [
      "0.0729953137336\n",
      "0.0729759276544\n",
      ".0.0798769689736\n",
      "0.0798774886613\n",
      "."
     ]
    }
   ],
   "source": [
    "m4=mid_point_saddle(z4,z3,quad)\n",
    "fase4=fase_silla(z4,z3,quad)\n",
    "longitud_silla4=abs(integrar(z4,z3,quad))/2.01\n",
    "solver4 = TrajectorySolver(quad,m4,longitud_silla4/10,longitud_silla4*1.1,fase4)\n",
    "puntos4=solver4()\n",
    "for x in range(puntos4.shape[0]):\n",
    "    quad.add_plotpoint(complex(puntos4[x][0],puntos4[x][1]))"
   ]
  },
  {
   "cell_type": "code",
   "execution_count": 44,
   "metadata": {},
   "outputs": [],
   "source": [
    "p1 = complex(2,5)"
   ]
  },
  {
   "cell_type": "code",
   "execution_count": 45,
   "metadata": {
    "collapsed": true
   },
   "outputs": [],
   "source": [
    "p2 = complex(5,5)"
   ]
  },
  {
   "cell_type": "code",
   "execution_count": 46,
   "metadata": {
    "collapsed": true
   },
   "outputs": [],
   "source": [
    "p3 = complex(5,-2)"
   ]
  },
  {
   "cell_type": "code",
   "execution_count": 47,
   "metadata": {
    "collapsed": true
   },
   "outputs": [],
   "source": [
    "long_pasos21 = integrar(z3,p1,quad)\n",
    "long_pasos22 = integrar(p1,p2,quad)\n",
    "long_pasos23 = integrar(p2,p3,quad)\n",
    "long_pasos24 = integrar(p3,z4,quad)"
   ]
  },
  {
   "cell_type": "code",
   "execution_count": 48,
   "metadata": {},
   "outputs": [
    {
     "data": {
      "text/plain": [
       "(-0.10684237859151588+0.31202796181576803j)"
      ]
     },
     "execution_count": 48,
     "metadata": {},
     "output_type": "execute_result"
    }
   ],
   "source": [
    "long_pasos21"
   ]
  },
  {
   "cell_type": "code",
   "execution_count": 49,
   "metadata": {},
   "outputs": [
    {
     "data": {
      "text/plain": [
       "(0.0021670638826001725+0.15067406694212854j)"
      ]
     },
     "execution_count": 49,
     "metadata": {},
     "output_type": "execute_result"
    }
   ],
   "source": [
    "long_pasos22"
   ]
  },
  {
   "cell_type": "code",
   "execution_count": 50,
   "metadata": {},
   "outputs": [
    {
     "data": {
      "text/plain": [
       "(0.07619517078925404-0.14014390802107557j)"
      ]
     },
     "execution_count": 50,
     "metadata": {},
     "output_type": "execute_result"
    }
   ],
   "source": [
    "long_pasos23"
   ]
  },
  {
   "cell_type": "code",
   "execution_count": 51,
   "metadata": {},
   "outputs": [
    {
     "data": {
      "text/plain": [
       "(-0.004657163120206223+0.010815615900648971j)"
      ]
     },
     "execution_count": 51,
     "metadata": {},
     "output_type": "execute_result"
    }
   ],
   "source": [
    "long_pasos24"
   ]
  },
  {
   "cell_type": "code",
   "execution_count": 62,
   "metadata": {
    "collapsed": true
   },
   "outputs": [],
   "source": [
    "long_pasos2=long_pasos21+long_pasos22-long_pasos23+long_pasos24"
   ]
  },
  {
   "cell_type": "code",
   "execution_count": 63,
   "metadata": {
    "collapsed": true
   },
   "outputs": [],
   "source": [
    "fase_pasos2 = long_pasos2/abs(long_pasos2)\n",
    "fase_pasos2 = fase_pasos2**2\n",
    "fase_pasos2 = fase_pasos2.conjugate()"
   ]
  },
  {
   "cell_type": "code",
   "execution_count": 64,
   "metadata": {
    "scrolled": true
   },
   "outputs": [
    {
     "name": "stdout",
     "output_type": "stream",
     "text": [
      "0.3205704452\n",
      "0.32055564084\n",
      "."
     ]
    }
   ],
   "source": [
    "mid_lenght2=abs(long_pasos2)/2\n",
    "start=z3+(p1-z3)*0.00001\n",
    "solver_pasos2=TrajectorySolver(quad,start,mid_lenght2,mid_lenght2,fase_pasos2)\n",
    "puntos_pasos2=solver_pasos2()\n",
    "mid_point2=complex(puntos_pasos2[-1][0],puntos_pasos2[-1][1])"
   ]
  },
  {
   "cell_type": "code",
   "execution_count": 65,
   "metadata": {},
   "outputs": [
    {
     "data": {
      "text/plain": [
       "(4.045855076233851+4.306273217669277j)"
      ]
     },
     "execution_count": 65,
     "metadata": {},
     "output_type": "execute_result"
    }
   ],
   "source": [
    "mid_point2"
   ]
  },
  {
   "cell_type": "code",
   "execution_count": 66,
   "metadata": {},
   "outputs": [],
   "source": [
    "quad_genericas.plotpoints = [mid_point2]"
   ]
  },
  {
   "cell_type": "code",
   "execution_count": 67,
   "metadata": {
    "collapsed": true
   },
   "outputs": [],
   "source": [
    "quad_genericas.phase=fase_pasos2"
   ]
  },
  {
   "cell_type": "code",
   "execution_count": 68,
   "metadata": {},
   "outputs": [
    {
     "name": "stdout",
     "output_type": "stream",
     "text": [
      ".\n"
     ]
    }
   ],
   "source": [
    "quad_drawer_genericas.draw_trajectories()"
   ]
  },
  {
   "cell_type": "code",
   "execution_count": 70,
   "metadata": {},
   "outputs": [
    {
     "name": "stdout",
     "output_type": "stream",
     "text": [
      "0.35085949219\n",
      "0.350907694479\n",
      "."
     ]
    }
   ],
   "source": [
    "longitud_pasoss2=abs(long_pasos2)/2.01\n",
    "solver_pasoss2 = TrajectorySolver(quad,mid_point2,longitud_pasoss2/10,longitud_pasoss2*1.1,fase_pasos2)\n",
    "puntos_pasoss2=solver_pasoss2()\n",
    "for x in range(puntos_pasoss2.shape[0]):\n",
    "    quad.add_plotpoint(complex(puntos_pasoss2[x][0],puntos_pasoss2[x][1]))\n",
    "    #plt.plot([puntos_pasoss[x][0]],[puntos_pasoss[x][1]],'go')"
   ]
  },
  {
   "cell_type": "markdown",
   "metadata": {},
   "source": [
    "## punto medio de z1 a z2"
   ]
  },
  {
   "cell_type": "code",
   "execution_count": 21,
   "metadata": {
    "collapsed": true
   },
   "outputs": [],
   "source": [
    "long_pasos1 = integrar(z2,w1,quad)\n",
    "long_pasos2 = integrar(w1,w2,quad)\n",
    "long_pasos3 = integrar(w2,z1,quad)"
   ]
  },
  {
   "cell_type": "code",
   "execution_count": 22,
   "metadata": {},
   "outputs": [
    {
     "data": {
      "text/plain": [
       "(0.0668943162166929-0.04588878947829177j)"
      ]
     },
     "execution_count": 22,
     "metadata": {},
     "output_type": "execute_result"
    }
   ],
   "source": [
    "long_pasos1"
   ]
  },
  {
   "cell_type": "code",
   "execution_count": 23,
   "metadata": {},
   "outputs": [
    {
     "data": {
      "text/plain": [
       "(-0.2766579711616409+0.055657563108897246j)"
      ]
     },
     "execution_count": 23,
     "metadata": {},
     "output_type": "execute_result"
    }
   ],
   "source": [
    "long_pasos2"
   ]
  },
  {
   "cell_type": "code",
   "execution_count": 24,
   "metadata": {},
   "outputs": [
    {
     "data": {
      "text/plain": [
       "(0.056339436507085595-0.2874280527884452j)"
      ]
     },
     "execution_count": 24,
     "metadata": {},
     "output_type": "execute_result"
    }
   ],
   "source": [
    "long_pasos3"
   ]
  },
  {
   "cell_type": "code",
   "execution_count": 25,
   "metadata": {
    "collapsed": true
   },
   "outputs": [],
   "source": [
    "long_pasos=long_pasos1-long_pasos2+long_pasos3"
   ]
  },
  {
   "cell_type": "code",
   "execution_count": 26,
   "metadata": {
    "collapsed": true
   },
   "outputs": [],
   "source": [
    "fase_pasos = long_pasos/abs(long_pasos)\n",
    "fase_pasos = fase_pasos**2\n",
    "fase_pasos = fase_pasos.conjugate()"
   ]
  },
  {
   "cell_type": "code",
   "execution_count": 27,
   "metadata": {
    "scrolled": true
   },
   "outputs": [
    {
     "name": "stdout",
     "output_type": "stream",
     "text": [
      "0.278975141545\n",
      "0.278974985541\n",
      "."
     ]
    }
   ],
   "source": [
    "mid_lenght=abs(long_pasos)/2\n",
    "start=z2+(w1-z2)*0.00001\n",
    "solver_pasos=TrajectorySolver(quad,start,mid_lenght,mid_lenght,fase_pasos)\n",
    "puntos_pasos=solver_pasos()\n",
    "mid_point=complex(puntos_pasos[-1][0],puntos_pasos[-1][1])"
   ]
  },
  {
   "cell_type": "code",
   "execution_count": 28,
   "metadata": {},
   "outputs": [
    {
     "data": {
      "text/plain": [
       "[<matplotlib.lines.Line2D at 0x7fcd8e8f1310>]"
      ]
     },
     "execution_count": 28,
     "metadata": {},
     "output_type": "execute_result"
    }
   ],
   "source": [
    "plt.plot([mid_point.real],[mid_point.imag],'ko')"
   ]
  },
  {
   "cell_type": "code",
   "execution_count": 41,
   "metadata": {},
   "outputs": [
    {
     "name": "stdout",
     "output_type": "stream",
     "text": [
      "0.305314500075\n",
      "0.305322198365\n",
      "."
     ]
    }
   ],
   "source": [
    "longitud_pasoss=abs(long_pasos)/2.01\n",
    "solver_pasoss = TrajectorySolver(quad,mid_point,longitud_pasoss/10,longitud_pasoss*1.1,fase_pasos)\n",
    "puntos_pasoss=solver_pasoss()\n",
    "for x in range(puntos_pasoss.shape[0]):\n",
    "    quad.add_plotpoint(complex(puntos_pasoss[x][0],puntos_pasoss[x][1]))\n",
    "    #plt.plot([puntos_pasoss[x][0]],[puntos_pasoss[x][1]],'go')"
   ]
  },
  {
   "cell_type": "code",
   "execution_count": 71,
   "metadata": {
    "collapsed": true
   },
   "outputs": [],
   "source": [
    "quad.phase=1"
   ]
  },
  {
   "cell_type": "code",
   "execution_count": 79,
   "metadata": {},
   "outputs": [
    {
     "name": "stdout",
     "output_type": "stream",
     "text": [
      "\n"
     ]
    }
   ],
   "source": [
    "quad_drawer.draw_trajectories()"
   ]
  },
  {
   "cell_type": "code",
   "execution_count": null,
   "metadata": {
    "collapsed": true,
    "scrolled": true
   },
   "outputs": [],
   "source": [
    "plt.savefig('franja4.pgf')"
   ]
  },
  {
   "cell_type": "code",
   "execution_count": null,
   "metadata": {
    "collapsed": true
   },
   "outputs": [],
   "source": []
  }
 ],
 "metadata": {
  "kernelspec": {
   "display_name": "Python 2",
   "language": "python",
   "name": "python2"
  },
  "language_info": {
   "codemirror_mode": {
    "name": "ipython",
    "version": 2
   },
   "file_extension": ".py",
   "mimetype": "text/x-python",
   "name": "python",
   "nbconvert_exporter": "python",
   "pygments_lexer": "ipython2",
   "version": "2.7.13"
  }
 },
 "nbformat": 4,
 "nbformat_minor": 2
}
